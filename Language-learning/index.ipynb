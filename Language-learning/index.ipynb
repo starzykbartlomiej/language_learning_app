{
 "cells": [
  {
   "cell_type": "markdown",
   "metadata": {},
   "source": [
    "# PHP 2020"
   ]
  },
  {
   "cell_type": "markdown",
   "metadata": {},
   "source": [
    "# Language-learning"
   ]
  },
  {
   "cell_type": "markdown",
   "metadata": {},
   "source": [
    "Start database:"
   ]
  },
  {
   "cell_type": "code",
   "execution_count": 1,
   "metadata": {},
   "outputs": [
    {
     "name": "stdout",
     "output_type": "stream",
     "text": [
      "d975c8ea8660c1391a3d97acdb6553cf1e37f36d2757fb3aa7b3862cbc0d55c4\r\n"
     ]
    }
   ],
   "source": [
    "! docker run --name=mysql --net=host --rm --env MYSQL_ROOT_PASSWORD=root123 --env MYSQL_DATABASE=test --env MYSQL_USER=test --env MYSQL_PASSWORD=test123 -d mysql/mysql-server:8.0"
   ]
  },
  {
   "cell_type": "code",
   "execution_count": 2,
   "metadata": {},
   "outputs": [
    {
     "name": "stdout",
     "output_type": "stream",
     "text": [
      "Done.\r\n"
     ]
    }
   ],
   "source": [
    "! while ! timeout 1 bash -c \"echo > /dev/tcp/localhost/3306\" 2> /dev/null; do sleep 1; done; echo \"Done.\";"
   ]
  },
  {
   "cell_type": "markdown",
   "metadata": {},
   "source": [
    "Edit the code:"
   ]
  },
  {
   "cell_type": "code",
   "execution_count": null,
   "metadata": {},
   "outputs": [
    {
     "name": "stdout",
     "output_type": "stream",
     "text": [
      "OpenJDK 64-Bit Server VM warning: Option UseConcMarkSweepGC was deprecated in version 9.0 and will likely be removed in a future release.\n",
      "2021-01-21 14:56:15,888 [   5081]   WARN - Container.ComponentManagerImpl - Do not use constructor injection (requestorClass=org.jetbrains.plugins.phpstorm.PhpStormInitialConfigurator) \n",
      "2021-01-21 14:56:28,909 [  18102]   WARN - pl.local.NativeFileWatcherImpl - Watcher terminated with exit code 3 \n",
      "2021-01-21 14:56:29,066 [  18259]   WARN - pl.local.NativeFileWatcherImpl - Watcher terminated with exit code 3 \n",
      "2021-01-21 14:56:29,195 [  18388]   WARN - pl.local.NativeFileWatcherImpl - Watcher terminated with exit code 3 \n",
      "2021-01-21 14:56:29,320 [  18513]   WARN - pl.local.NativeFileWatcherImpl - Watcher terminated with exit code 3 \n",
      "2021-01-21 14:56:29,356 [  18549]   WARN - com.intellij.util.xmlb.Binding - no accessors for com.jetbrains.php.testFramework.PhpTestFrameworkType \n",
      "2021-01-21 14:56:29,493 [  18686]   WARN - pl.local.NativeFileWatcherImpl - Watcher terminated with exit code 3 \n",
      "2021-01-21 14:56:29,641 [  18834]   WARN - pl.local.NativeFileWatcherImpl - Watcher terminated with exit code 3 \n",
      "2021-01-21 14:56:29,776 [  18969]   WARN - pl.local.NativeFileWatcherImpl - Watcher terminated with exit code 3 \n",
      "2021-01-21 14:56:29,942 [  19135]   WARN - pl.local.NativeFileWatcherImpl - Watcher terminated with exit code 3 \n",
      "2021-01-21 14:56:30,087 [  19280]   WARN - pl.local.NativeFileWatcherImpl - Watcher terminated with exit code 3 \n",
      "2021-01-21 14:56:30,207 [  19400]   WARN - pl.local.NativeFileWatcherImpl - Watcher terminated with exit code 3 \n",
      "2021-01-21 14:56:30,208 [  19401]   WARN - api.vfs.impl.local.FileWatcher - File watcher failed to start \n",
      "2021-01-21 18:09:15,648 [11584841]   WARN -    #com.jetbrains.php.PhpIndex - getBySignature recursion hit level 50 @ <<<#π#M#Vattributes.exceptProps≥#F\\>>> \n",
      "2021-01-21 18:09:15,648 [11584841]   WARN -    #com.jetbrains.php.PhpIndex - getBySignature recursion hit level 50 @ <<<#E#π#F\\parseArgs≥#A#F\\parseArgs.0>>> \n",
      "2021-01-21 18:09:15,648 [11584841]   WARN -    #com.jetbrains.php.PhpIndex - getBySignature recursion hit level 50 @ <<<#M#Vattributes.exceptProps>>> \n",
      "2021-01-21 18:14:33,861 [11903054]   WARN -    #com.jetbrains.php.PhpIndex - getBySignature recursion hit level 50 @ <<<#π#M#Vattributes.exceptProps≥#F\\>>> \n",
      "2021-01-21 18:14:33,863 [11903056]   WARN -    #com.jetbrains.php.PhpIndex - getBySignature recursion hit level 50 @ <<<#E#π#F\\parseArgs≥#A#F\\parseArgs.0>>> \n",
      "2021-01-21 18:14:33,863 [11903056]   WARN -    #com.jetbrains.php.PhpIndex - getBySignature recursion hit level 50 @ <<<#M#Vattributes.exceptProps>>> \n",
      "2021-01-21 18:20:22,217 [12251410]   WARN - eInsight.daemon.LineMarkerInfo - Performance warning: LineMarker is supposed to be registered for leaf elements only, but got: PhpClass:  (class com.jetbrains.php.lang.psi.elements.impl.PhpClassImpl) instead. First child: PsiElement(class) (class com.intellij.psi.impl.source.tree.LeafPsiElement)\n",
      "Please see LineMarkerProvider#getLineMarkerInfo(PsiElement) javadoc for detailed explanations. \n",
      "2021-01-21 18:20:22,217 [12251410]   WARN - eInsight.daemon.LineMarkerInfo - Performance warning: LineMarker is supposed to be registered for leaf elements only, but got: PhpClass:  (class com.jetbrains.php.lang.psi.elements.impl.PhpClassImpl) instead. First child: PsiElement(class) (class com.intellij.psi.impl.source.tree.LeafPsiElement)\n",
      "Please see LineMarkerProvider#getLineMarkerInfo(PsiElement) javadoc for detailed explanations. \n",
      "2021-01-21 18:20:22,219 [12251412]   WARN - eInsight.daemon.LineMarkerInfo - Performance warning: LineMarker is supposed to be registered for leaf elements only, but got: PhpClass:  (class com.jetbrains.php.lang.psi.elements.impl.PhpClassImpl) instead. First child: PsiElement(class) (class com.intellij.psi.impl.source.tree.LeafPsiElement)\n",
      "Please see LineMarkerProvider#getLineMarkerInfo(PsiElement) javadoc for detailed explanations. \n",
      "2021-01-21 18:20:22,226 [12251419]   WARN - eInsight.daemon.LineMarkerInfo - Performance warning: LineMarker is supposed to be registered for leaf elements only, but got: PhpClass:  (class com.jetbrains.php.lang.psi.elements.impl.PhpClassImpl) instead. First child: PsiElement(class) (class com.intellij.psi.impl.source.tree.LeafPsiElement)\n",
      "Please see LineMarkerProvider#getLineMarkerInfo(PsiElement) javadoc for detailed explanations. \n",
      "2021-01-21 18:20:22,227 [12251420]   WARN - eInsight.daemon.LineMarkerInfo - Performance warning: LineMarker is supposed to be registered for leaf elements only, but got: PhpClass:  (class com.jetbrains.php.lang.psi.elements.impl.PhpClassImpl) instead. First child: PsiElement(class) (class com.intellij.psi.impl.source.tree.LeafPsiElement)\n",
      "Please see LineMarkerProvider#getLineMarkerInfo(PsiElement) javadoc for detailed explanations. \n",
      "2021-01-21 18:20:22,227 [12251420]   WARN - eInsight.daemon.LineMarkerInfo - Performance warning: LineMarker is supposed to be registered for leaf elements only, but got: PhpClass:  (class com.jetbrains.php.lang.psi.elements.impl.PhpClassImpl) instead. First child: PsiElement(class) (class com.intellij.psi.impl.source.tree.LeafPsiElement)\n",
      "Please see LineMarkerProvider#getLineMarkerInfo(PsiElement) javadoc for detailed explanations. \n",
      "2021-01-21 18:20:24,258 [12253451]   WARN - eInsight.daemon.LineMarkerInfo - Performance warning: LineMarker is supposed to be registered for leaf elements only, but got: PhpClass:  (class com.jetbrains.php.lang.psi.elements.impl.PhpClassImpl) instead. First child: PsiElement(class) (class com.intellij.psi.impl.source.tree.LeafPsiElement)\n",
      "Please see LineMarkerProvider#getLineMarkerInfo(PsiElement) javadoc for detailed explanations. \n",
      "2021-01-21 18:20:24,267 [12253460]   WARN - eInsight.daemon.LineMarkerInfo - Performance warning: LineMarker is supposed to be registered for leaf elements only, but got: PhpClass:  (class com.jetbrains.php.lang.psi.elements.impl.PhpClassImpl) instead. First child: PsiElement(class) (class com.intellij.psi.impl.source.tree.LeafPsiElement)\n",
      "Please see LineMarkerProvider#getLineMarkerInfo(PsiElement) javadoc for detailed explanations. \n",
      "2021-01-21 18:20:24,267 [12253460]   WARN - eInsight.daemon.LineMarkerInfo - Performance warning: LineMarker is supposed to be registered for leaf elements only, but got: PhpClass:  (class com.jetbrains.php.lang.psi.elements.impl.PhpClassImpl) instead. First child: PsiElement(class) (class com.intellij.psi.impl.source.tree.LeafPsiElement)\n",
      "Please see LineMarkerProvider#getLineMarkerInfo(PsiElement) javadoc for detailed explanations. \n",
      "2021-01-21 18:20:24,267 [12253460]   WARN - eInsight.daemon.LineMarkerInfo - Performance warning: LineMarker is supposed to be registered for leaf elements only, but got: PhpClass:  (class com.jetbrains.php.lang.psi.elements.impl.PhpClassImpl) instead. First child: PsiElement(class) (class com.intellij.psi.impl.source.tree.LeafPsiElement)\n",
      "Please see LineMarkerProvider#getLineMarkerInfo(PsiElement) javadoc for detailed explanations. \n",
      "2021-01-21 18:20:24,267 [12253460]   WARN - eInsight.daemon.LineMarkerInfo - Performance warning: LineMarker is supposed to be registered for leaf elements only, but got: PhpClass:  (class com.jetbrains.php.lang.psi.elements.impl.PhpClassImpl) instead. First child: PsiElement(class) (class com.intellij.psi.impl.source.tree.LeafPsiElement)\n",
      "Please see LineMarkerProvider#getLineMarkerInfo(PsiElement) javadoc for detailed explanations. \n",
      "2021-01-21 18:20:24,267 [12253460]   WARN - eInsight.daemon.LineMarkerInfo - Performance warning: LineMarker is supposed to be registered for leaf elements only, but got: PhpClass:  (class com.jetbrains.php.lang.psi.elements.impl.PhpClassImpl) instead. First child: PsiElement(class) (class com.intellij.psi.impl.source.tree.LeafPsiElement)\n",
      "Please see LineMarkerProvider#getLineMarkerInfo(PsiElement) javadoc for detailed explanations. \n",
      "2021-01-21 18:21:52,592 [12341785]   WARN - eInsight.daemon.LineMarkerInfo - Performance warning: LineMarker is supposed to be registered for leaf elements only, but got: PhpClass:  (class com.jetbrains.php.lang.psi.elements.impl.PhpClassImpl) instead. First child: PsiElement(class) (class com.intellij.psi.impl.source.tree.LeafPsiElement)\n",
      "Please see LineMarkerProvider#getLineMarkerInfo(PsiElement) javadoc for detailed explanations. \n",
      "2021-01-21 18:21:52,593 [12341786]   WARN - eInsight.daemon.LineMarkerInfo - Performance warning: LineMarker is supposed to be registered for leaf elements only, but got: PhpClass:  (class com.jetbrains.php.lang.psi.elements.impl.PhpClassImpl) instead. First child: PsiElement(class) (class com.intellij.psi.impl.source.tree.LeafPsiElement)\n",
      "Please see LineMarkerProvider#getLineMarkerInfo(PsiElement) javadoc for detailed explanations. \n",
      "2021-01-21 18:21:52,594 [12341787]   WARN - eInsight.daemon.LineMarkerInfo - Performance warning: LineMarker is supposed to be registered for leaf elements only, but got: PhpClass:  (class com.jetbrains.php.lang.psi.elements.impl.PhpClassImpl) instead. First child: PsiElement(class) (class com.intellij.psi.impl.source.tree.LeafPsiElement)\n",
      "Please see LineMarkerProvider#getLineMarkerInfo(PsiElement) javadoc for detailed explanations. \n",
      "2021-01-21 18:21:52,603 [12341796]   WARN - eInsight.daemon.LineMarkerInfo - Performance warning: LineMarker is supposed to be registered for leaf elements only, but got: PhpClass:  (class com.jetbrains.php.lang.psi.elements.impl.PhpClassImpl) instead. First child: PsiElement(class) (class com.intellij.psi.impl.source.tree.LeafPsiElement)\n",
      "Please see LineMarkerProvider#getLineMarkerInfo(PsiElement) javadoc for detailed explanations. \n",
      "2021-01-21 18:21:52,608 [12341801]   WARN - eInsight.daemon.LineMarkerInfo - Performance warning: LineMarker is supposed to be registered for leaf elements only, but got: PhpClass:  (class com.jetbrains.php.lang.psi.elements.impl.PhpClassImpl) instead. First child: PsiElement(class) (class com.intellij.psi.impl.source.tree.LeafPsiElement)\n",
      "Please see LineMarkerProvider#getLineMarkerInfo(PsiElement) javadoc for detailed explanations. \n",
      "2021-01-21 18:21:52,609 [12341802]   WARN - eInsight.daemon.LineMarkerInfo - Performance warning: LineMarker is supposed to be registered for leaf elements only, but got: PhpClass:  (class com.jetbrains.php.lang.psi.elements.impl.PhpClassImpl) instead. First child: PsiElement(class) (class com.intellij.psi.impl.source.tree.LeafPsiElement)\n",
      "Please see LineMarkerProvider#getLineMarkerInfo(PsiElement) javadoc for detailed explanations. \n"
     ]
    },
    {
     "name": "stdout",
     "output_type": "stream",
     "text": [
      "2021-01-21 18:21:56,417 [12345610]   WARN - eInsight.daemon.LineMarkerInfo - Performance warning: LineMarker is supposed to be registered for leaf elements only, but got: PhpClass:  (class com.jetbrains.php.lang.psi.elements.impl.PhpClassImpl) instead. First child: PsiElement(class) (class com.intellij.psi.impl.source.tree.LeafPsiElement)\n",
      "Please see LineMarkerProvider#getLineMarkerInfo(PsiElement) javadoc for detailed explanations. \n",
      "2021-01-21 18:21:56,418 [12345611]   WARN - eInsight.daemon.LineMarkerInfo - Performance warning: LineMarker is supposed to be registered for leaf elements only, but got: PhpClass:  (class com.jetbrains.php.lang.psi.elements.impl.PhpClassImpl) instead. First child: PsiElement(class) (class com.intellij.psi.impl.source.tree.LeafPsiElement)\n",
      "Please see LineMarkerProvider#getLineMarkerInfo(PsiElement) javadoc for detailed explanations. \n",
      "2021-01-21 18:21:56,418 [12345611]   WARN - eInsight.daemon.LineMarkerInfo - Performance warning: LineMarker is supposed to be registered for leaf elements only, but got: PhpClass:  (class com.jetbrains.php.lang.psi.elements.impl.PhpClassImpl) instead. First child: PsiElement(class) (class com.intellij.psi.impl.source.tree.LeafPsiElement)\n",
      "Please see LineMarkerProvider#getLineMarkerInfo(PsiElement) javadoc for detailed explanations. \n",
      "2021-01-21 18:21:56,419 [12345612]   WARN - eInsight.daemon.LineMarkerInfo - Performance warning: LineMarker is supposed to be registered for leaf elements only, but got: PhpClass:  (class com.jetbrains.php.lang.psi.elements.impl.PhpClassImpl) instead. First child: PsiElement(class) (class com.intellij.psi.impl.source.tree.LeafPsiElement)\n",
      "Please see LineMarkerProvider#getLineMarkerInfo(PsiElement) javadoc for detailed explanations. \n",
      "2021-01-21 18:21:56,419 [12345612]   WARN - eInsight.daemon.LineMarkerInfo - Performance warning: LineMarker is supposed to be registered for leaf elements only, but got: PhpClass:  (class com.jetbrains.php.lang.psi.elements.impl.PhpClassImpl) instead. First child: PsiElement(class) (class com.intellij.psi.impl.source.tree.LeafPsiElement)\n",
      "Please see LineMarkerProvider#getLineMarkerInfo(PsiElement) javadoc for detailed explanations. \n",
      "2021-01-21 18:21:56,419 [12345612]   WARN - eInsight.daemon.LineMarkerInfo - Performance warning: LineMarker is supposed to be registered for leaf elements only, but got: PhpClass:  (class com.jetbrains.php.lang.psi.elements.impl.PhpClassImpl) instead. First child: PsiElement(class) (class com.intellij.psi.impl.source.tree.LeafPsiElement)\n",
      "Please see LineMarkerProvider#getLineMarkerInfo(PsiElement) javadoc for detailed explanations. \n"
     ]
    }
   ],
   "source": [
    "! phpstorm project"
   ]
  },
  {
   "cell_type": "markdown",
   "metadata": {},
   "source": [
    "You can test your solution using included tests:"
   ]
  },
  {
   "cell_type": "code",
   "execution_count": 3,
   "metadata": {},
   "outputs": [
    {
     "name": "stdout",
     "output_type": "stream",
     "text": [
      "/home/student/php_2020_platforma_do_nauki_jezykow/Language-learning/project\n"
     ]
    }
   ],
   "source": [
    "%cd project"
   ]
  },
  {
   "cell_type": "code",
   "execution_count": 6,
   "metadata": {},
   "outputs": [
    {
     "name": "stdout",
     "output_type": "stream",
     "text": [
      "\u001b[32mLoading composer repositories with package information\u001b[39m\n",
      "\u001b[32mInstalling dependencies (including require-dev) from lock file\u001b[39m\n",
      "Nothing to install or update\n",
      "\u001b[32mGenerating optimized autoload files\u001b[39m\n",
      "> Illuminate\\Foundation\\ComposerScripts::postAutoloadDump\n",
      "> @php artisan package:discover --ansi\n",
      "Discovered Package: \u001b[32mfacade/ignition\u001b[39m\n",
      "Discovered Package: \u001b[32mfideloper/proxy\u001b[39m\n",
      "Discovered Package: \u001b[32mfruitcake/laravel-cors\u001b[39m\n",
      "Discovered Package: \u001b[32mgraham-campbell/markdown\u001b[39m\n",
      "Discovered Package: \u001b[32mlaravel/breeze\u001b[39m\n",
      "Discovered Package: \u001b[32mlaravel/sail\u001b[39m\n",
      "Discovered Package: \u001b[32mlaravel/tinker\u001b[39m\n",
      "Discovered Package: \u001b[32mnesbot/carbon\u001b[39m\n",
      "Discovered Package: \u001b[32mnunomaduro/collision\u001b[39m\n",
      "\u001b[32mPackage manifest generated successfully.\u001b[39m\n",
      "\u001b[32m79 packages you are using are looking for funding.\u001b[39m\n",
      "\u001b[32mUse the `composer fund` command to find out more!\u001b[39m\n"
     ]
    }
   ],
   "source": [
    "! composer install"
   ]
  },
  {
   "cell_type": "code",
   "execution_count": 7,
   "metadata": {},
   "outputs": [],
   "source": [
    "! cp .env.example .env"
   ]
  },
  {
   "cell_type": "code",
   "execution_count": 6,
   "metadata": {},
   "outputs": [
    {
     "name": "stdout",
     "output_type": "stream",
     "text": [
      "\u001b[32mApplication key set successfully.\u001b[39m\r\n"
     ]
    }
   ],
   "source": [
    "! php artisan key:generate"
   ]
  },
  {
   "cell_type": "code",
   "execution_count": 4,
   "metadata": {},
   "outputs": [
    {
     "name": "stdout",
     "output_type": "stream",
     "text": [
      "\u001b[32mDropped all tables successfully.\u001b[39m\n",
      "\u001b[32mMigration table created successfully.\u001b[39m\n",
      "\u001b[33mMigrating:\u001b[39m 2014_10_12_000000_create_users_table\n",
      "\u001b[32mMigrated:\u001b[39m  2014_10_12_000000_create_users_table (122.69ms)\n",
      "\u001b[33mMigrating:\u001b[39m 2014_10_12_100000_create_password_resets_table\n",
      "\u001b[32mMigrated:\u001b[39m  2014_10_12_100000_create_password_resets_table (91.36ms)\n",
      "\u001b[33mMigrating:\u001b[39m 2019_08_19_000000_create_failed_jobs_table\n",
      "\u001b[32mMigrated:\u001b[39m  2019_08_19_000000_create_failed_jobs_table (75.35ms)\n",
      "\u001b[33mMigrating:\u001b[39m 2020_12_15_145710_create_comments_table\n",
      "\u001b[32mMigrated:\u001b[39m  2020_12_15_145710_create_comments_table (33.53ms)\n",
      "\u001b[33mMigrating:\u001b[39m 2021_01_12_113821_create_quizzes_table\n",
      "\u001b[32mMigrated:\u001b[39m  2021_01_12_113821_create_quizzes_table (167.34ms)\n",
      "\u001b[33mMigrating:\u001b[39m 2021_01_12_135444_create_questions_table\n",
      "\u001b[32mMigrated:\u001b[39m  2021_01_12_135444_create_questions_table (126.92ms)\n",
      "\u001b[33mMigrating:\u001b[39m 2021_01_12_143411_add_quiz_id_and_user_id_to_comments_table\n",
      "\u001b[32mMigrated:\u001b[39m  2021_01_12_143411_add_quiz_id_and_user_id_to_comments_table (185.68ms)\n",
      "\u001b[33mMigrating:\u001b[39m 2021_01_12_172347_create_options_table\n",
      "\u001b[32mMigrated:\u001b[39m  2021_01_12_172347_create_options_table (107.93ms)\n",
      "\u001b[33mMigrating:\u001b[39m 2021_01_13_134656_create_languages_table\n",
      "\u001b[32mMigrated:\u001b[39m  2021_01_13_134656_create_languages_table (26.36ms)\n",
      "\u001b[33mMigrating:\u001b[39m 2021_01_13_135157_add_language_id_to_quizzes_table\n",
      "\u001b[32mMigrated:\u001b[39m  2021_01_13_135157_add_language_id_to_quizzes_table (321.39ms)\n",
      "\u001b[33mMigrating:\u001b[39m 2021_01_15_203911_set_language_unique_on_language_table\n",
      "\u001b[32mMigrated:\u001b[39m  2021_01_15_203911_set_language_unique_on_language_table (37.92ms)\n",
      "\u001b[33mMigrating:\u001b[39m 2021_01_22_142810_create_solutions_table\n",
      "\u001b[32mMigrated:\u001b[39m  2021_01_22_142810_create_solutions_table (252.34ms)\n",
      "\u001b[33mMigrating:\u001b[39m 2021_01_22_161644_add_quiz_field_to_solutions_table\n",
      "\u001b[32mMigrated:\u001b[39m  2021_01_22_161644_add_quiz_field_to_solutions_table (153.64ms)\n",
      "\u001b[33mMigrating:\u001b[39m 2021_01_22_223425_create_results_table\n",
      "\u001b[32mMigrated:\u001b[39m  2021_01_22_223425_create_results_table (202.82ms)\n",
      "\u001b[33mMigrating:\u001b[39m 2021_01_23_165104_create_subcomments_table\n",
      "\u001b[32mMigrated:\u001b[39m  2021_01_23_165104_create_subcomments_table (332.71ms)\n"
     ]
    }
   ],
   "source": [
    "! php artisan migrate:fresh"
   ]
  },
  {
   "cell_type": "code",
   "execution_count": 5,
   "metadata": {},
   "outputs": [
    {
     "name": "stdout",
     "output_type": "stream",
     "text": [
      "\u001b[33mSeeding:\u001b[39m Database\\Seeders\\UserSeeder\n",
      "\u001b[32mSeeded:\u001b[39m  Database\\Seeders\\UserSeeder (777.81ms)\n",
      "\u001b[33mSeeding:\u001b[39m Database\\Seeders\\LanguageSeeder\n",
      "\u001b[32mSeeded:\u001b[39m  Database\\Seeders\\LanguageSeeder (22.97ms)\n",
      "\u001b[33mSeeding:\u001b[39m Database\\Seeders\\QuizSeeder\n",
      "\u001b[32mSeeded:\u001b[39m  Database\\Seeders\\QuizSeeder (398.47ms)\n",
      "\u001b[33mSeeding:\u001b[39m Database\\Seeders\\QuestionSeeder\n",
      "\u001b[32mSeeded:\u001b[39m  Database\\Seeders\\QuestionSeeder (401.55ms)\n",
      "\u001b[33mSeeding:\u001b[39m Database\\Seeders\\OptionSeeder\n",
      "\u001b[32mSeeded:\u001b[39m  Database\\Seeders\\OptionSeeder (685.95ms)\n",
      "\u001b[33mSeeding:\u001b[39m Database\\Seeders\\CommentSeeder\n",
      "\u001b[32mSeeded:\u001b[39m  Database\\Seeders\\CommentSeeder (176.02ms)\n",
      "\u001b[33mSeeding:\u001b[39m Database\\Seeders\\ResultSeeder\n",
      "\u001b[32mSeeded:\u001b[39m  Database\\Seeders\\ResultSeeder (6.06ms)\n",
      "\u001b[32mDatabase seeding completed successfully.\u001b[39m\n"
     ]
    }
   ],
   "source": [
    "! php artisan db:seed"
   ]
  },
  {
   "cell_type": "code",
   "execution_count": 6,
   "metadata": {},
   "outputs": [
    {
     "name": "stdout",
     "output_type": "stream",
     "text": [
      "mysqldump: [Warning] Using a password on the command line interface can be insecure.\r\n"
     ]
    }
   ],
   "source": [
    "! docker exec mysql mysqldump -u root --password=root123 test > tests_codeception/_data/dump.sql"
   ]
  },
  {
   "cell_type": "code",
   "execution_count": 7,
   "metadata": {},
   "outputs": [
    {
     "name": "stdout",
     "output_type": "stream",
     "text": [
      "PHPUnit 9.5.0 by Sebastian Bergmann and contributors.\n",
      "\n",
      ".................                                                 17 / 17 (100%)\n",
      "\n",
      "Time: 00:08.989, Memory: 38.00 MB\n",
      "\n",
      "\u001b[30;42mOK (17 tests, 27 assertions)\u001b[0m\n"
     ]
    }
   ],
   "source": [
    "! vendor/bin/phpunit"
   ]
  },
  {
   "cell_type": "code",
   "execution_count": 8,
   "metadata": {},
   "outputs": [],
   "source": [
    "import subprocess\n",
    "artisanServe = subprocess.Popen(['php', 'artisan', 'serve', '--port', '8888'])"
   ]
  },
  {
   "cell_type": "code",
   "execution_count": 12,
   "metadata": {},
   "outputs": [
    {
     "name": "stdout",
     "output_type": "stream",
     "text": [
      "Codeception PHP Testing Framework v4.1.12\n",
      "Powered by PHPUnit 9.5.0 by Sebastian Bergmann and contributors.\n",
      "Running with seed: \n",
      "\n",
      "\n",
      "\u001b[1mAcceptance Tests (4) \u001b[22m-----------------------------------------------------------\n",
      "\u001b[32;1m✔\u001b[39;22m \u001b[35;1m01_HomepageCept:\u001b[39;22m  \u001b[32m(0.00s)\u001b[39m\n",
      "\u001b[31;1m✖\u001b[39;22m \u001b[35;1m02_LoginCept:\u001b[39;22m Login with existing user \u001b[32m(0.91s)\u001b[39m\n",
      "\u001b[32;1m✔\u001b[39;22m \u001b[35;1m03_LanguageCept:\u001b[39;22m  \u001b[32m(0.00s)\u001b[39m\n",
      "\u001b[32;1m✔\u001b[39;22m \u001b[35;1m04_QuizzescomCept:\u001b[39;22m  \u001b[32m(0.00s)\u001b[39m\n",
      "--------------------------------------------------------------------------------\n",
      "\n",
      "\u001b[1mFunctional Tests (0) \u001b[22m-----------------------------------------------------------\n",
      "--------------------------------------------------------------------------------\n",
      "\n",
      "\u001b[1mUnit Tests (0) \u001b[22m-----------------------------------------------------------------\n",
      "--------------------------------------------------------------------------------\n",
      "\n",
      "\n",
      "Time: 00:07.622, Memory: 14.00 MB\n",
      "\n",
      "There was 1 failure:\n",
      "\n",
      "---------\n",
      "1) \u001b[35;1m02_LoginCept:\u001b[39;22m Login with existing user\n",
      "\u001b[37;41;1m Test \u001b[39;49;22m tests_codeception/acceptance/02_LoginCept.php\n",
      "\u001b[37;41;1m Step \u001b[39;49;22m Click \"Login\"\n",
      "\u001b[37;41;1m Fail \u001b[39;49;22m Link or Button by name or CSS or XPath element with 'Login' was not found.\n",
      "\u001b[33m\n",
      "Scenario Steps:\n",
      "\u001b[39m\n",
      "\u001b[1m 5. $I->click(\"Login\")\u001b[22m at \u001b[32mtests_codeception/acceptance/02_LoginCept.php:13\u001b[39m\n",
      " 4. $I->fillField(\"password\",\"secret\") at \u001b[32mtests_codeception/acceptance/02_LoginCept.php:11\u001b[39m\n",
      " 3. $I->fillField(\"email\",\"john.doe@gmail.com\") at \u001b[32mtests_codeception/acceptance/02_LoginCept.php:10\u001b[39m\n",
      " 2. $I->seeCurrentUrlEquals(\"/login\") at \u001b[32mtests_codeception/acceptance/02_LoginCept.php:8\u001b[39m\n",
      " 1. $I->amOnPage(\"/dashboard\") at \u001b[32mtests_codeception/acceptance/02_LoginCept.php:6\u001b[39m\n",
      "\n",
      "\u001b[33mArtifacts:\u001b[39m\n",
      "\n",
      "Html: \u001b[36m/home/student/php_2020_platforma_do_nauki_jezykow/Language-learning/project/tests_codeception/_output/02_LoginCept.fail.html\u001b[39m\n",
      "Response: \u001b[36m/home/student/php_2020_platforma_do_nauki_jezykow/Language-learning/project/tests_codeception/_output/02_LoginCept.fail.html\u001b[39m\n",
      "\n",
      "\u001b[37;41mFAILURES!\u001b[0m\n",
      "\u001b[37;41mTests: 4\u001b[0m\u001b[37;41m, Assertions: 1\u001b[0m\u001b[37;41m, Failures: 1\u001b[0m\u001b[37;41m.\u001b[0m\n"
     ]
    }
   ],
   "source": [
    "! vendor/bin/codecept run"
   ]
  },
  {
   "cell_type": "code",
   "execution_count": 13,
   "metadata": {},
   "outputs": [],
   "source": [
    "! killall php php7.4"
   ]
  },
  {
   "cell_type": "code",
   "execution_count": 12,
   "metadata": {},
   "outputs": [
    {
     "name": "stdout",
     "output_type": "stream",
     "text": [
      "/home/student/php_2020_platforma_do_nauki_jezykow/Language-learning\n"
     ]
    }
   ],
   "source": [
    "%cd .."
   ]
  },
  {
   "cell_type": "markdown",
   "metadata": {},
   "source": [
    "Stop database:"
   ]
  },
  {
   "cell_type": "code",
   "execution_count": 15,
   "metadata": {},
   "outputs": [
    {
     "name": "stdout",
     "output_type": "stream",
     "text": [
      "mysql\r\n"
     ]
    }
   ],
   "source": [
    "! docker container stop mysql"
   ]
  }
 ],
 "metadata": {
  "kernelspec": {
   "display_name": "Python 3",
   "language": "python",
   "name": "python3"
  },
  "language_info": {
   "codemirror_mode": {
    "name": "ipython",
    "version": 3
   },
   "file_extension": ".py",
   "mimetype": "text/x-python",
   "name": "python",
   "nbconvert_exporter": "python",
   "pygments_lexer": "ipython3",
   "version": "3.8.3"
  }
 },
 "nbformat": 4,
 "nbformat_minor": 4
}
