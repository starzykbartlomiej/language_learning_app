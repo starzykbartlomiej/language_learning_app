{
 "cells": [
  {
   "cell_type": "markdown",
   "metadata": {},
   "source": [
    "# PHP 2020"
   ]
  },
  {
   "cell_type": "markdown",
   "metadata": {},
   "source": [
    "# Language-learning"
   ]
  },
  {
   "cell_type": "markdown",
   "metadata": {},
   "source": [
    "Start database:"
   ]
  },
  {
   "cell_type": "code",
   "execution_count": 1,
   "metadata": {},
   "outputs": [
    {
     "name": "stdout",
     "output_type": "stream",
     "text": [
      "docker: Error response from daemon: Conflict. The container name \"/mysql\" is already in use by container \"940b8e0da8fb5c1f1fa27744ffe3c6c8f2447cb9d8d91a3ceb4c3b379e654a9e\". You have to remove (or rename) that container to be able to reuse that name.\r\n",
      "See 'docker run --help'.\r\n"
     ]
    }
   ],
   "source": [
    "! docker run --name=mysql --net=host --rm --env MYSQL_ROOT_PASSWORD=root123 --env MYSQL_DATABASE=test --env MYSQL_USER=test --env MYSQL_PASSWORD=test123 -d mysql/mysql-server:8.0"
   ]
  },
  {
   "cell_type": "code",
   "execution_count": 2,
   "metadata": {},
   "outputs": [
    {
     "name": "stdout",
     "output_type": "stream",
     "text": [
      "Done.\r\n"
     ]
    }
   ],
   "source": [
    "! while ! timeout 1 bash -c \"echo > /dev/tcp/localhost/3306\" 2> /dev/null; do sleep 1; done; echo \"Done.\";"
   ]
  },
  {
   "cell_type": "markdown",
   "metadata": {},
   "source": [
    "Edit the code:"
   ]
  },
  {
   "cell_type": "code",
   "execution_count": null,
   "metadata": {},
   "outputs": [],
   "source": [
    "! phpstorm project"
   ]
  },
  {
   "cell_type": "markdown",
   "metadata": {},
   "source": [
    "You can test your solution using included tests:"
   ]
  },
  {
   "cell_type": "code",
   "execution_count": 3,
   "metadata": {},
   "outputs": [
    {
     "name": "stdout",
     "output_type": "stream",
     "text": [
      "/home/student/php_2020_platforma_do_nauki_jezykow/Language-learning/project\n"
     ]
    }
   ],
   "source": [
    "%cd project"
   ]
  },
  {
   "cell_type": "code",
   "execution_count": 4,
   "metadata": {},
   "outputs": [
    {
     "name": "stdout",
     "output_type": "stream",
     "text": [
      "\u001b[32mLoading composer repositories with package information\u001b[39m\n",
      "\u001b[32mInstalling dependencies (including require-dev) from lock file\u001b[39m\n",
      "\u001b[32mPackage operations: 124 installs, 0 updates, 0 removals\u001b[39m\n",
      "  - Installing \u001b[32mdoctrine/inflector\u001b[39m (\u001b[33m2.0.3\u001b[39m): Downloading (\u001b[33mconnecting...\u001b[39mDownloading (\u001b[33m0%\u001b[39m)        Downloading (\u001b[33m20%\u001b[39mDownloading (\u001b[33m40%\u001b[39mDownloading (\u001b[33m60%\u001b[39mDownloading (\u001b[33m80%\u001b[39mDownloading (\u001b[33m100%\u001b[39m)\n",
      "  - Installing \u001b[32mdoctrine/lexer\u001b[39m (\u001b[33m1.2.1\u001b[39m): Downloading (\u001b[33mconnecting...\u001b[39mDownloading (\u001b[33m0%\u001b[39m)          Downloading (\u001b[33m100%\u001b[39m)\n",
      "  - Installing \u001b[32msymfony/polyfill-ctype\u001b[39m (\u001b[33mv1.20.0\u001b[39m): Downloading (\u001b[33mconnecting...\u001b[39mDownloading (\u001b[33m0%\u001b[39m)          Downloading (\u001b[33m100%\u001b[39m)\n",
      "  - Installing \u001b[32mwebmozart/assert\u001b[39m (\u001b[33m1.9.1\u001b[39m): Loading from cache\n",
      "  - Installing \u001b[32mdragonmantank/cron-expression\u001b[39m (\u001b[33mv3.1.0\u001b[39m): Downloading (\u001b[33mconnecting...\u001b[39mDownloading (\u001b[33m0%\u001b[39m)          Downloading (\u001b[33m20%\u001b[39mDownloading (\u001b[33m40%\u001b[39mDownloading (\u001b[33m60%\u001b[39mDownloading (\u001b[33m80%\u001b[39mDownloading (\u001b[33m100%\u001b[39m)\n",
      "  - Installing \u001b[32mvoku/portable-ascii\u001b[39m (\u001b[33m1.5.6\u001b[39m): Downloading (\u001b[33mconnecting...\u001b[39mDownloading (\u001b[33m0%\u001b[39m)        Downloading (\u001b[33m5%\u001b[39Downloading (\u001b[33m10%\u001b[39mDownloading (\u001b[33m15%\u001b[39mDownloading (\u001b[33m20%\u001b[39mDownloading (\u001b[33m25%\u001b[39mDownloading (\u001b[33m30%\u001b[39mDownloading (\u001b[33m35%\u001b[39mDownloading (\u001b[33m40%\u001b[39mDownloading (\u001b[33m45%\u001b[39mDownloading (\u001b[33m50%\u001b[39mDownloading (\u001b[33m55%\u001b[39mDownloading (\u001b[33m60%\u001b[39mDownloading (\u001b[33m65%\u001b[39mDownloading (\u001b[33m70%\u001b[39mDownloading (\u001b[33m75%\u001b[39mDownloading (\u001b[33m80%\u001b[39mDownloading (\u001b[33m85%\u001b[39mDownloading (\u001b[33m90%\u001b[39mDownloading (\u001b[33m95%\u001b[39mDownloading (\u001b[33m100%\u001b[39m)\n",
      "  - Installing \u001b[32msymfony/polyfill-php80\u001b[39m (\u001b[33mv1.20.0\u001b[39m): Downloading (\u001b[33mconnecting...\u001b[39mDownloading (\u001b[33m0%\u001b[39m)          Downloading (\u001b[33m100%\u001b[39m)\n",
      "  - Installing \u001b[32msymfony/polyfill-mbstring\u001b[39m (\u001b[33mv1.20.0\u001b[39m): Downloading (\u001b[33mconnecting...\u001b[39mDownloading (\u001b[33m0%\u001b[39m)          Downloading (\u001b[33m5%\u001b[39Downloading (\u001b[33m10%\u001b[39mDownloading (\u001b[33m100%\u001b[39m)\n",
      "  - Installing \u001b[32mphpoption/phpoption\u001b[39m (\u001b[33m1.7.5\u001b[39m): Downloading (\u001b[33mconnecting...\u001b[39mDownloading (\u001b[33m0%\u001b[39m)        Downloading (\u001b[33m85%\u001b[39mDownloading (\u001b[33m95%\u001b[39mDownloading (\u001b[33m100%\u001b[39m)\n",
      "  - Installing \u001b[32mgraham-campbell/result-type\u001b[39m (\u001b[33mv1.0.1\u001b[39m): Downloading (\u001b[33mconnecting...\u001b[39mDownloading (\u001b[33m0%\u001b[39m)          Downloading (\u001b[33m100%\u001b[39m)\n",
      "  - Installing \u001b[32mvlucas/phpdotenv\u001b[39m (\u001b[33mv5.2.0\u001b[39m): Downloading (\u001b[33mconnecting...\u001b[39mDownloading (\u001b[33m0%\u001b[39m)        Downloading (\u001b[33m35%\u001b[39mDownloading (\u001b[33m55%\u001b[39mDownloading (\u001b[33m70%\u001b[39mDownloading (\u001b[33m100%\u001b[39m)\n",
      "  - Installing \u001b[32msymfony/css-selector\u001b[39m (\u001b[33mv5.2.0\u001b[39m): Downloading (\u001b[33mconnecting...\u001b[39mDownloading (\u001b[33m0%\u001b[39m)          Downloading (\u001b[33m5%\u001b[39Downloading (\u001b[33m30%\u001b[39mDownloading (\u001b[33m35%\u001b[39mDownloading (\u001b[33m65%\u001b[39mDownloading (\u001b[33m70%\u001b[39mDownloading (\u001b[33m100%\u001b[39m)\n",
      "  - Installing \u001b[32mtijsverkoyen/css-to-inline-styles\u001b[39m (\u001b[33m2.2.3\u001b[39m): Downloading (\u001b[33mconnecting...\u001b[39mDownloading (\u001b[33m0%\u001b[39m)          Downloading (\u001b[33m70%\u001b[39mDownloading (\u001b[33m100%\u001b[39m)\n",
      "  - Installing \u001b[32msymfony/var-dumper\u001b[39m (\u001b[33mv5.2.0\u001b[39m): Downloading (\u001b[33mconnecting...\u001b[39mDownloading (\u001b[33m100%\u001b[39m)        \n",
      "  - Installing \u001b[32msymfony/deprecation-contracts\u001b[39m (\u001b[33mv2.2.0\u001b[39m): Loading from cache\n",
      "  - Installing \u001b[32msymfony/routing\u001b[39m (\u001b[33mv5.2.0\u001b[39m): Downloading (\u001b[33mconnecting...\u001b[39mDownloading (\u001b[33m0%\u001b[39m)        Downloading (\u001b[33m10%\u001b[39mDownloading (\u001b[33m20%\u001b[39mDownloading (\u001b[33m25%\u001b[39mDownloading (\u001b[33m30%\u001b[39mDownloading (\u001b[33m35%\u001b[39mDownloading (\u001b[33m40%\u001b[39mDownloading (\u001b[33m45%\u001b[39mDownloading (\u001b[33m55%\u001b[39mDownloading (\u001b[33m65%\u001b[39mDownloading (\u001b[33m75%\u001b[39mDownloading (\u001b[33m80%\u001b[39mDownloading (\u001b[33m85%\u001b[39mDownloading (\u001b[33m90%\u001b[39mDownloading (\u001b[33m100%\u001b[39m)\n",
      "  - Installing \u001b[32msymfony/process\u001b[39m (\u001b[33mv5.2.0\u001b[39m): Downloading (\u001b[33mconnecting...\u001b[39mDownloading (\u001b[33m0%\u001b[39m)        Downloading (\u001b[33m40%\u001b[39mDownloading (\u001b[33m45%\u001b[39mDownloading (\u001b[33m80%\u001b[39mDownloading (\u001b[33m85%\u001b[39mDownloading (\u001b[33m100%\u001b[39m)\n",
      "  - Installing \u001b[32msymfony/polyfill-php72\u001b[39m (\u001b[33mv1.20.0\u001b[39m): Downloading (\u001b[33mconnecting...\u001b[39mDownloading (\u001b[33m0%\u001b[39m)          Downloading (\u001b[33m90%\u001b[39mDownloading (\u001b[33m100%\u001b[39m)\n",
      "  - Installing \u001b[32msymfony/polyfill-intl-normalizer\u001b[39m (\u001b[33mv1.20.0\u001b[39m): Downloading (\u001b[33mconnecting...\u001b[39mDownloading (\u001b[33m0%\u001b[39m)          Downloading (\u001b[33m10%\u001b[39mDownloading (\u001b[33m20%\u001b[39mDownloading (\u001b[33m45%\u001b[39mDownloading (\u001b[33m55%\u001b[39mDownloading (\u001b[33m65%\u001b[39mDownloading (\u001b[33m75%\u001b[39mDownloading (\u001b[33m100%\u001b[39m)\n",
      "  - Installing \u001b[32msymfony/polyfill-intl-idn\u001b[39m (\u001b[33mv1.20.0\u001b[39m): Downloading (\u001b[33mconnecting...\u001b[39mDownloading (\u001b[33m0%\u001b[39m)          Downloading (\u001b[33m5%\u001b[39Downloading (\u001b[33m25%\u001b[39mDownloading (\u001b[33m30%\u001b[39mDownloading (\u001b[33m35%\u001b[39mDownloading (\u001b[33m55%\u001b[39mDownloading (\u001b[33m60%\u001b[39mDownloading (\u001b[33m65%\u001b[39mDownloading (\u001b[33m90%\u001b[39mDownloading (\u001b[33m95%\u001b[39mDownloading (\u001b[33m100%\u001b[39m)\n",
      "  - Installing \u001b[32msymfony/mime\u001b[39m (\u001b[33mv5.2.0\u001b[39m): Downloading (\u001b[33mconnecting...\u001b[39mDownloading (\u001b[33m0%\u001b[39m)          Downloading (\u001b[33m5%\u001b[39Downloading (\u001b[33m10%\u001b[39mDownloading (\u001b[33m20%\u001b[39mDownloading (\u001b[33m25%\u001b[39mDownloading (\u001b[33m30%\u001b[39mDownloading (\u001b[33m35%\u001b[39mDownloading (\u001b[33m40%\u001b[39mDownloading (\u001b[33m45%\u001b[39mDownloading (\u001b[33m55%\u001b[39mDownloading (\u001b[33m60%\u001b[39mDownloading (\u001b[33m65%\u001b[39mDownloading (\u001b[33m70%\u001b[39mDownloading (\u001b[33m75%\u001b[39mDownloading (\u001b[33m90%\u001b[39mDownloading (\u001b[33m95%\u001b[39mDownloading (\u001b[33m100%\u001b[39m)\n",
      "  - Installing \u001b[32msymfony/polyfill-php73\u001b[39m (\u001b[33mv1.20.0\u001b[39m): Downloading (\u001b[33mconnecting...\u001b[39mDownloading (\u001b[33m0%\u001b[39m)          Downloading (\u001b[33m65%\u001b[39mDownloading (\u001b[33m100%\u001b[39m)\n",
      "  - Installing \u001b[32msymfony/http-foundation\u001b[39m (\u001b[33mv5.2.0\u001b[39m): Downloading (\u001b[33mconnecting...\u001b[39mDownloading (\u001b[33m0%\u001b[39m)          Downloading (\u001b[33m5%\u001b[39Downloading (\u001b[33m10%\u001b[39mDownloading (\u001b[33m15%\u001b[39mDownloading (\u001b[33m20%\u001b[39mDownloading (\u001b[33m25%\u001b[39mDownloading (\u001b[33m30%\u001b[39mDownloading (\u001b[33m35%\u001b[39mDownloading (\u001b[33m40%\u001b[39mDownloading (\u001b[33m45%\u001b[39mDownloading (\u001b[33m50%\u001b[39mDownloading (\u001b[33m55%\u001b[39mDownloading (\u001b[33m60%\u001b[39mDownloading (\u001b[33m65%\u001b[39mDownloading (\u001b[33m70%\u001b[39mDownloading (\u001b[33m75%\u001b[39mDownloading (\u001b[33m80%\u001b[39mDownloading (\u001b[33m85%\u001b[39mDownloading (\u001b[33m90%\u001b[39mDownloading (\u001b[33m95%\u001b[39mDownloading (\u001b[33m100%\u001b[39m)\n",
      "  - Installing \u001b[32msymfony/http-client-contracts\u001b[39m (\u001b[33mv2.3.1\u001b[39m): Downloading (\u001b[33mconnecting...\u001b[39mDownloading (\u001b[33m0%\u001b[39m)          Downloading (\u001b[33m20%\u001b[39mDownloading (\u001b[33m40%\u001b[39mDownloading (\u001b[33m60%\u001b[39mDownloading (\u001b[33m80%\u001b[39mDownloading (\u001b[33m100%\u001b[39m)\n",
      "  - Installing \u001b[32mpsr/event-dispatcher\u001b[39m (\u001b[33m1.0.0\u001b[39m): Loading from cache\n",
      "  - Installing \u001b[32msymfony/event-dispatcher-contracts\u001b[39m (\u001b[33mv2.2.0\u001b[39m): Loading from cache\n",
      "  - Installing \u001b[32msymfony/event-dispatcher\u001b[39m (\u001b[33mv5.2.0\u001b[39m): Downloading (\u001b[33mconnecting...\u001b[39mDownloading (\u001b[33m0%\u001b[39m)        Downloading (\u001b[33m55%\u001b[39mDownloading (\u001b[33m70%\u001b[39mDownloading (\u001b[33m100%\u001b[39m)\n",
      "  - Installing \u001b[32mpsr/log\u001b[39m (\u001b[33m1.1.3\u001b[39m): Loading from cache\n",
      "  - Installing \u001b[32msymfony/error-handler\u001b[39m (\u001b[33mv5.2.0\u001b[39m): Downloading (\u001b[33mconnecting...\u001b[39mDownloading (\u001b[33m0%\u001b[39m)          Downloading (\u001b[33m10%\u001b[39mDownloading (\u001b[33m15%\u001b[39mDownloading (\u001b[33m25%\u001b[39mDownloading (\u001b[33m30%\u001b[39mDownloading (\u001b[33m40%\u001b[39mDownloading (\u001b[33m55%\u001b[39mDownloading (\u001b[33m65%\u001b[39mDownloading (\u001b[33m70%\u001b[39mDownloading (\u001b[33m80%\u001b[39mDownloading (\u001b[33m85%\u001b[39mDownloading (\u001b[33m95%\u001b[39mDownloading (\u001b[33m100%\u001b[39m)\n",
      "  - Installing \u001b[32msymfony/http-kernel\u001b[39m (\u001b[33mv5.2.0\u001b[39m): Downloading (\u001b[33mconnecting...\u001b[39mDownloading (\u001b[33m0%\u001b[39m)        Downloading (\u001b[33m5%\u001b[39Downloading (\u001b[33m10%\u001b[39mDownloading (\u001b[33m15%\u001b[39mDownloading (\u001b[33m20%\u001b[39mDownloading (\u001b[33m25%\u001b[39mDownloading (\u001b[33m30%\u001b[39mDownloading (\u001b[33m35%\u001b[39mDownloading (\u001b[33m40%\u001b[39mDownloading (\u001b[33m45%\u001b[39mDownloading (\u001b[33m50%\u001b[39mDownloading (\u001b[33m55%\u001b[39mDownloading (\u001b[33m60%\u001b[39mDownloading (\u001b[33m65%\u001b[39mDownloading (\u001b[33m70%\u001b[39mDownloading (\u001b[33m75%\u001b[39mDownloading (\u001b[33m80%\u001b[39mDownloading (\u001b[33m85%\u001b[39mDownloading (\u001b[33m90%\u001b[39mDownloading (\u001b[33m95%\u001b[39mDownloading (\u001b[33m100%\u001b[39m)\n",
      "  - Installing \u001b[32msymfony/finder\u001b[39m (\u001b[33mv5.2.0\u001b[39m): Downloading (\u001b[33mconnecting...\u001b[39mDownloading (\u001b[33m0%\u001b[39m)          Downloading (\u001b[33m5%\u001b[39Downloading (\u001b[33m10%\u001b[39mDownloading (\u001b[33m15%\u001b[39mDownloading (\u001b[33m20%\u001b[39mDownloading (\u001b[33m25%\u001b[39mDownloading (\u001b[33m30%\u001b[39mDownloading (\u001b[33m35%\u001b[39mDownloading (\u001b[33m40%\u001b[39mDownloading (\u001b[33m45%\u001b[39mDownloading (\u001b[33m50%\u001b[39mDownloading (\u001b[33m55%\u001b[39mDownloading (\u001b[33m60%\u001b[39mDownloading (\u001b[33m65%\u001b[39mDownloading (\u001b[33m70%\u001b[39mDownloading (\u001b[33m75%\u001b[39mDownloading (\u001b[33m80%\u001b[39mDownloading (\u001b[33m85%\u001b[39mDownloading (\u001b[33m90%\u001b[39mDownloading (\u001b[33m95%\u001b[39mDownloading (\u001b[33m100%\u001b[39m)\n",
      "  - Installing \u001b[32msymfony/polyfill-intl-grapheme\u001b[39m (\u001b[33mv1.20.0\u001b[39m): Downloading (\u001b[33mconnecting...\u001b[39mDownloading (\u001b[33m0%\u001b[39m)          Downloading (\u001b[33m85%\u001b[39mDownloading (\u001b[33m100%\u001b[39m)\n",
      "  - Installing \u001b[32msymfony/string\u001b[39m (\u001b[33mv5.2.0\u001b[39m): Downloading (\u001b[33mconnecting...\u001b[39mDownloading (\u001b[33m0%\u001b[39m)          Downloading (\u001b[33m10%\u001b[39mDownloading (\u001b[33m20%\u001b[39mDownloading (\u001b[33m30%\u001b[39mDownloading (\u001b[33m100%\u001b[39m)\n",
      "  - Installing \u001b[32mpsr/container\u001b[39m (\u001b[33m1.0.0\u001b[39m): Loading from cache\n",
      "  - Installing \u001b[32msymfony/service-contracts\u001b[39m (\u001b[33mv2.2.0\u001b[39m): Loading from cache\n",
      "  - Installing \u001b[32msymfony/console\u001b[39m (\u001b[33mv5.2.0\u001b[39m): Downloading (\u001b[33mconnecting...\u001b[39mDownloading (\u001b[33m0%\u001b[39m)          Downloading (\u001b[33m5%\u001b[39Downloading (\u001b[33m10%\u001b[39mDownloading (\u001b[33m15%\u001b[39mDownloading (\u001b[33m20%\u001b[39mDownloading (\u001b[33m25%\u001b[39mDownloading (\u001b[33m30%\u001b[39mDownloading (\u001b[33m35%\u001b[39mDownloading (\u001b[33m40%\u001b[39mDownloading (\u001b[33m45%\u001b[39mDownloading (\u001b[33m50%\u001b[39mDownloading (\u001b[33m55%\u001b[39mDownloading (\u001b[33m60%\u001b[39mDownloading (\u001b[33m65%\u001b[39mDownloading (\u001b[33m70%\u001b[39mDownloading (\u001b[33m75%\u001b[39mDownloading (\u001b[33m80%\u001b[39mDownloading (\u001b[33m85%\u001b[39mDownloading (\u001b[33m90%\u001b[39mDownloading (\u001b[33m95%\u001b[39mDownloading (\u001b[33m100%\u001b[39m)\n",
      "  - Installing \u001b[32msymfony/polyfill-iconv\u001b[39m (\u001b[33mv1.20.0\u001b[39m): Downloading (\u001b[33mconnecting...\u001b[39mDownloading (\u001b[33m0%\u001b[39m)        Downloading (\u001b[33m5%\u001b[39Downloading (\u001b[33m10%\u001b[39mDownloading (\u001b[33m15%\u001b[39mDownloading (\u001b[33m20%\u001b[39mDownloading (\u001b[33m25%\u001b[39mDownloading (\u001b[33m30%\u001b[39mDownloading (\u001b[33m35%\u001b[39mDownloading (\u001b[33m40%\u001b[39mDownloading (\u001b[33m45%\u001b[39mDownloading (\u001b[33m50%\u001b[39mDownloading (\u001b[33m55%\u001b[39mDownloading (\u001b[33m60%\u001b[39mDownloading (\u001b[33m65%\u001b[39mDownloading (\u001b[33m70%\u001b[39mDownloading (\u001b[33m75%\u001b[39mDownloading (\u001b[33m80%\u001b[39mDownloading (\u001b[33m85%\u001b[39mDownloading (\u001b[33m90%\u001b[39mDownloading (\u001b[33m95%\u001b[39mDownloading (\u001b[33m100%\u001b[39m)\n",
      "  - Installing \u001b[32megulias/email-validator\u001b[39m (\u001b[33m2.1.24\u001b[39m): Downloading (\u001b[33mconnecting...\u001b[39mDownloading (\u001b[33m0%\u001b[39m)          Downloading (\u001b[33m15%\u001b[39mDownloading (\u001b[33m40%\u001b[39mDownloading (\u001b[33m55%\u001b[39mDownloading (\u001b[33m70%\u001b[39mDownloading (\u001b[33m95%\u001b[39mDownloading (\u001b[33m100%\u001b[39m)\n",
      "  - Installing \u001b[32mswiftmailer/swiftmailer\u001b[39m (\u001b[33mv6.2.4\u001b[39m): Downloading (\u001b[33mconnecting...\u001b[39mDownloading (\u001b[33m0%\u001b[39m)        Downloading (\u001b[33m5%\u001b[39Downloading (\u001b[33m10%\u001b[39mDownloading (\u001b[33m15%\u001b[39mDownloading (\u001b[33m20%\u001b[39mDownloading (\u001b[33m25%\u001b[39mDownloading (\u001b[33m30%\u001b[39mDownloading (\u001b[33m35%\u001b[39mDownloading (\u001b[33m40%\u001b[39mDownloading (\u001b[33m45%\u001b[39mDownloading (\u001b[33m50%\u001b[39mDownloading (\u001b[33m55%\u001b[39mDownloading (\u001b[33m60%\u001b[39mDownloading (\u001b[33m65%\u001b[39mDownloading (\u001b[33m70%\u001b[39mDownloading (\u001b[33m75%\u001b[39mDownloading (\u001b[33m80%\u001b[39mDownloading (\u001b[33m85%\u001b[39mDownloading (\u001b[33m90%\u001b[39mDownloading (\u001b[33m95%\u001b[39mDownloading (\u001b[33m100%\u001b[39m)\n",
      "  - Installing \u001b[32mramsey/collection\u001b[39m (\u001b[33m1.1.1\u001b[39m): Downloading (\u001b[33mconnecting...\u001b[39mDownloading (\u001b[33m0%\u001b[39m)          Downloading (\u001b[33m10%\u001b[39mDownloading (\u001b[33m20%\u001b[39mDownloading (\u001b[33m30%\u001b[39mDownloading (\u001b[33m40%\u001b[39mDownloading (\u001b[33m50%\u001b[39mDownloading (\u001b[33m60%\u001b[39mDownloading (\u001b[33m70%\u001b[39mDownloading (\u001b[33m80%\u001b[39mDownloading (\u001b[33m90%\u001b[39mDownloading (\u001b[33m100%\u001b[39m)\n",
      "  - Installing \u001b[32mbrick/math\u001b[39m (\u001b[33m0.9.1\u001b[39m): Downloading (\u001b[33mconnecting...\u001b[39mDownloading (\u001b[33m0%\u001b[39m)          Downloading (\u001b[33m20%\u001b[39mDownloading (\u001b[33m35%\u001b[39mDownloading (\u001b[33m55%\u001b[39mDownloading (\u001b[33m70%\u001b[39mDownloading (\u001b[33m90%\u001b[39mDownloading (\u001b[33m100%\u001b[39m)\n",
      "  - Installing \u001b[32mramsey/uuid\u001b[39m (\u001b[33m4.1.1\u001b[39m): Downloading (\u001b[33mconnecting...\u001b[39mDownloading (\u001b[33m0%\u001b[39m)          Downloading (\u001b[33m5%\u001b[39Downloading (\u001b[33m10%\u001b[39mDownloading (\u001b[33m15%\u001b[39mDownloading (\u001b[33m20%\u001b[39mDownloading (\u001b[33m25%\u001b[39mDownloading (\u001b[33m30%\u001b[39mDownloading (\u001b[33m35%\u001b[39mDownloading (\u001b[33m45%\u001b[39mDownloading (\u001b[33m50%\u001b[39mDownloading (\u001b[33m55%\u001b[39mDownloading (\u001b[33m60%\u001b[39mDownloading (\u001b[33m65%\u001b[39mDownloading (\u001b[33m70%\u001b[39mDownloading (\u001b[33m75%\u001b[39mDownloading (\u001b[33m80%\u001b[39mDownloading (\u001b[33m85%\u001b[39mDownloading (\u001b[33m90%\u001b[39mDownloading (\u001b[33m95%\u001b[39mDownloading (\u001b[33m100%\u001b[39m)\n",
      "  - Installing \u001b[32mpsr/simple-cache\u001b[39m (\u001b[33m1.0.1\u001b[39m): Downloading (\u001b[33mconnecting...\u001b[39mDownloading (\u001b[33m0%\u001b[39m)          Downloading (\u001b[33m30%\u001b[39mDownloading (\u001b[33m60%\u001b[39mDownloading (\u001b[33m100%\u001b[39m)\n",
      "  - Installing \u001b[32mopis/closure\u001b[39m (\u001b[33m3.6.1\u001b[39m): Downloading (\u001b[33mconnecting...\u001b[39mDownloading (\u001b[33m0%\u001b[39m)          Downloading (\u001b[33m20%\u001b[39mDownloading (\u001b[33m85%\u001b[39mDownloading (\u001b[33m100%\u001b[39m)\n",
      "  - Installing \u001b[32msymfony/translation-contracts\u001b[39m (\u001b[33mv2.3.0\u001b[39m): Downloading (\u001b[33mconnecting...\u001b[39mDownloading (\u001b[33m0%\u001b[39m)          Downloading (\u001b[33m65%\u001b[39mDownloading (\u001b[33m95%\u001b[39mDownloading (\u001b[33m100%\u001b[39m)\n",
      "  - Installing \u001b[32msymfony/translation\u001b[39m (\u001b[33mv5.2.0\u001b[39m): Downloading (\u001b[33mconnecting...\u001b[39mDownloading (\u001b[33m0%\u001b[39m)        Downloading (\u001b[33m5%\u001b[39Downloading (\u001b[33m15%\u001b[39mDownloading (\u001b[33m20%\u001b[39mDownloading (\u001b[33m25%\u001b[39mDownloading (\u001b[33m35%\u001b[39mDownloading (\u001b[33m40%\u001b[39mDownloading (\u001b[33m45%\u001b[39mDownloading (\u001b[33m55%\u001b[39mDownloading (\u001b[33m60%\u001b[39mDownloading (\u001b[33m65%\u001b[39mDownloading (\u001b[33m75%\u001b[39mDownloading (\u001b[33m80%\u001b[39mDownloading (\u001b[33m85%\u001b[39mDownloading (\u001b[33m95%\u001b[39mDownloading (\u001b[33m100%\u001b[39m)\n",
      "  - Installing \u001b[32mnesbot/carbon\u001b[39m (\u001b[33m2.42.0\u001b[39m): Downloading (\u001b[33mconnecting...\u001b[39mDownloading (\u001b[33m0%\u001b[39m)        Downloading (\u001b[33m5%\u001b[39Downloading (\u001b[33m10%\u001b[39mDownloading (\u001b[33m15%\u001b[39mDownloading (\u001b[33m20%\u001b[39mDownloading (\u001b[33m25%\u001b[39mDownloading (\u001b[33m30%\u001b[39mDownloading (\u001b[33m35%\u001b[39mDownloading (\u001b[33m40%\u001b[39mDownloading (\u001b[33m45%\u001b[39mDownloading (\u001b[33m50%\u001b[39mDownloading (\u001b[33m55%\u001b[39mDownloading (\u001b[33m60%\u001b[39mDownloading (\u001b[33m65%\u001b[39mDownloading (\u001b[33m70%\u001b[39mDownloading (\u001b[33m75%\u001b[39mDownloading (\u001b[33m80%\u001b[39mDownloading (\u001b[33m85%\u001b[39mDownloading (\u001b[33m90%\u001b[39mDownloading (\u001b[33m95%\u001b[39mDownloading (\u001b[33m100%\u001b[39m)\n",
      "  - Installing \u001b[32mmonolog/monolog\u001b[39m (\u001b[33m2.2.0\u001b[39m): Downloading (\u001b[33mconnecting...\u001b[39mDownloading (\u001b[33m0%\u001b[39m)        Downloading (\u001b[33m5%\u001b[39Downloading (\u001b[33m10%\u001b[39mDownloading (\u001b[33m15%\u001b[39mDownloading (\u001b[33m20%\u001b[39mDownloading (\u001b[33m25%\u001b[39mDownloading (\u001b[33m30%\u001b[39mDownloading (\u001b[33m35%\u001b[39mDownloading (\u001b[33m40%\u001b[39mDownloading (\u001b[33m45%\u001b[39mDownloading (\u001b[33m50%\u001b[39mDownloading (\u001b[33m55%\u001b[39mDownloading (\u001b[33m60%\u001b[39mDownloading (\u001b[33m65%\u001b[39mDownloading (\u001b[33m70%\u001b[39mDownloading (\u001b[33m75%\u001b[39mDownloading (\u001b[33m80%\u001b[39mDownloading (\u001b[33m85%\u001b[39mDownloading (\u001b[33m90%\u001b[39mDownloading (\u001b[33m95%\u001b[39mDownloading (\u001b[33m100%\u001b[39m)\n",
      "  - Installing \u001b[32mleague/mime-type-detection\u001b[39m (\u001b[33m1.5.1\u001b[39m): Downloading (\u001b[33mconnecting...\u001b[39mDownloading (\u001b[33m0%\u001b[39m)        Downloading (\u001b[33m45%\u001b[39mDownloading (\u001b[33m90%\u001b[39mDownloading (\u001b[33m100%\u001b[39m)\n"
     ]
    },
    {
     "name": "stdout",
     "output_type": "stream",
     "text": [
      "  - Installing \u001b[32mleague/flysystem\u001b[39m (\u001b[33m1.1.3\u001b[39m): Downloading (\u001b[33mconnecting...\u001b[39mDownloading (\u001b[33m0%\u001b[39m)          Downloading (\u001b[33m15%\u001b[39mDownloading (\u001b[33m20%\u001b[39mDownloading (\u001b[33m35%\u001b[39mDownloading (\u001b[33m55%\u001b[39mDownloading (\u001b[33m70%\u001b[39mDownloading (\u001b[33m90%\u001b[39mDownloading (\u001b[33m100%\u001b[39m)\n",
      "  - Installing \u001b[32mleague/commonmark\u001b[39m (\u001b[33m1.5.7\u001b[39m): Downloading (\u001b[33mconnecting...\u001b[39mDownloading (\u001b[33m0%\u001b[39m)        Downloading (\u001b[33m5%\u001b[39Downloading (\u001b[33m10%\u001b[39mDownloading (\u001b[33m15%\u001b[39mDownloading (\u001b[33m20%\u001b[39mDownloading (\u001b[33m25%\u001b[39mDownloading (\u001b[33m30%\u001b[39mDownloading (\u001b[33m35%\u001b[39mDownloading (\u001b[33m40%\u001b[39mDownloading (\u001b[33m45%\u001b[39mDownloading (\u001b[33m50%\u001b[39mDownloading (\u001b[33m55%\u001b[39mDownloading (\u001b[33m60%\u001b[39mDownloading (\u001b[33m65%\u001b[39mDownloading (\u001b[33m70%\u001b[39mDownloading (\u001b[33m75%\u001b[39mDownloading (\u001b[33m80%\u001b[39mDownloading (\u001b[33m85%\u001b[39mDownloading (\u001b[33m90%\u001b[39mDownloading (\u001b[33m95%\u001b[39mDownloading (\u001b[33m100%\u001b[39m)\n",
      "  - Installing \u001b[32mlaravel/framework\u001b[39m (\u001b[33mv8.18.1\u001b[39m): Downloading (\u001b[33mconnecting...\u001b[39mDownloading (\u001b[33m0%\u001b[39m)        Downloading (\u001b[33m5%\u001b[39Downloading (\u001b[33m10%\u001b[39mDownloading (\u001b[33m15%\u001b[39mDownloading (\u001b[33m20%\u001b[39mDownloading (\u001b[33m25%\u001b[39mDownloading (\u001b[33m30%\u001b[39mDownloading (\u001b[33m35%\u001b[39mDownloading (\u001b[33m40%\u001b[39mDownloading (\u001b[33m45%\u001b[39mDownloading (\u001b[33m50%\u001b[39mDownloading (\u001b[33m55%\u001b[39mDownloading (\u001b[33m60%\u001b[39mDownloading (\u001b[33m65%\u001b[39mDownloading (\u001b[33m70%\u001b[39mDownloading (\u001b[33m75%\u001b[39mDownloading (\u001b[33m80%\u001b[39mDownloading (\u001b[33m85%\u001b[39mDownloading (\u001b[33m90%\u001b[39mDownloading (\u001b[33m95%\u001b[39mDownloading (\u001b[33m100%\u001b[39m)\n",
      "  - Installing \u001b[32mfideloper/proxy\u001b[39m (\u001b[33m4.4.1\u001b[39m): Downloading (\u001b[33mconnecting...\u001b[39mDownloading (\u001b[33m0%\u001b[39m)        Downloading (\u001b[33m100%\u001b[39m)\n",
      "  - Installing \u001b[32masm89/stack-cors\u001b[39m (\u001b[33mv2.0.2\u001b[39m): Downloading (\u001b[33mconnecting...\u001b[39mDownloading (\u001b[33m0%\u001b[39m)          Downloading (\u001b[33m25%\u001b[39mDownloading (\u001b[33m90%\u001b[39mDownloading (\u001b[33m100%\u001b[39m)\n",
      "  - Installing \u001b[32mfruitcake/laravel-cors\u001b[39m (\u001b[33mv2.0.3\u001b[39m): Downloading (\u001b[33mconnecting...\u001b[39mDownloading (\u001b[33m0%\u001b[39m)        Downloading (\u001b[33m65%\u001b[39mDownloading (\u001b[33m100%\u001b[39m)\n",
      "  - Installing \u001b[32mgraham-campbell/markdown\u001b[39m (\u001b[33mv13.1.1\u001b[39m): Downloading (\u001b[33mconnecting...\u001b[39mDownloading (\u001b[33m100%\u001b[39m)        \n",
      "  - Installing \u001b[32mguzzlehttp/promises\u001b[39m (\u001b[33m1.4.0\u001b[39m): Downloading (\u001b[33mconnecting...\u001b[39mDownloading (\u001b[33m0%\u001b[39m)          Downloading (\u001b[33m5%\u001b[39Downloading (\u001b[33m50%\u001b[39mDownloading (\u001b[33m55%\u001b[39mDownloading (\u001b[33m60%\u001b[39mDownloading (\u001b[33m100%\u001b[39m)\n",
      "  - Installing \u001b[32mralouphie/getallheaders\u001b[39m (\u001b[33m3.0.3\u001b[39m): Loading from cache\n",
      "  - Installing \u001b[32mpsr/http-message\u001b[39m (\u001b[33m1.0.1\u001b[39m): Loading from cache\n",
      "  - Installing \u001b[32mguzzlehttp/psr7\u001b[39m (\u001b[33m1.7.0\u001b[39m): Downloading (\u001b[33mconnecting...\u001b[39mDownloading (\u001b[33m0%\u001b[39m)        Downloading (\u001b[33m15%\u001b[39mDownloading (\u001b[33m25%\u001b[39mDownloading (\u001b[33m30%\u001b[39mDownloading (\u001b[33m40%\u001b[39mDownloading (\u001b[33m45%\u001b[39mDownloading (\u001b[33m55%\u001b[39mDownloading (\u001b[33m70%\u001b[39mDownloading (\u001b[33m85%\u001b[39mDownloading (\u001b[33m95%\u001b[39mDownloading (\u001b[33m100%\u001b[39m)\n",
      "  - Installing \u001b[32mnikic/php-parser\u001b[39m (\u001b[33mv4.10.3\u001b[39m): Downloading (\u001b[33mconnecting...\u001b[39mDownloading (\u001b[33m0%\u001b[39m)        Downloading (\u001b[33m5%\u001b[39Downloading (\u001b[33m10%\u001b[39mDownloading (\u001b[33m15%\u001b[39mDownloading (\u001b[33m20%\u001b[39mDownloading (\u001b[33m25%\u001b[39mDownloading (\u001b[33m30%\u001b[39mDownloading (\u001b[33m35%\u001b[39mDownloading (\u001b[33m40%\u001b[39mDownloading (\u001b[33m45%\u001b[39mDownloading (\u001b[33m50%\u001b[39mDownloading (\u001b[33m55%\u001b[39mDownloading (\u001b[33m60%\u001b[39mDownloading (\u001b[33m65%\u001b[39mDownloading (\u001b[33m70%\u001b[39mDownloading (\u001b[33m75%\u001b[39mDownloading (\u001b[33m80%\u001b[39mDownloading (\u001b[33m85%\u001b[39mDownloading (\u001b[33m90%\u001b[39mDownloading (\u001b[33m95%\u001b[39mDownloading (\u001b[33m100%\u001b[39m)\n",
      "  - Installing \u001b[32mdnoegel/php-xdg-base-dir\u001b[39m (\u001b[33mv0.1.1\u001b[39m): Downloading (\u001b[33mconnecting...\u001b[39mDownloading (\u001b[33m0%\u001b[39m)          Downloading (\u001b[33m40%\u001b[39mDownloading (\u001b[33m80%\u001b[39mDownloading (\u001b[33m100%\u001b[39m)\n",
      "  - Installing \u001b[32mpsy/psysh\u001b[39m (\u001b[33mv0.10.5\u001b[39m): Downloading (\u001b[33mconnecting...\u001b[39mDownloading (\u001b[33m0%\u001b[39m)        Downloading (\u001b[33m5%\u001b[39Downloading (\u001b[33m10%\u001b[39mDownloading (\u001b[33m15%\u001b[39mDownloading (\u001b[33m20%\u001b[39mDownloading (\u001b[33m25%\u001b[39mDownloading (\u001b[33m30%\u001b[39mDownloading (\u001b[33m35%\u001b[39mDownloading (\u001b[33m40%\u001b[39mDownloading (\u001b[33m45%\u001b[39mDownloading (\u001b[33m50%\u001b[39mDownloading (\u001b[33m55%\u001b[39mDownloading (\u001b[33m60%\u001b[39mDownloading (\u001b[33m65%\u001b[39mDownloading (\u001b[33m70%\u001b[39mDownloading (\u001b[33m75%\u001b[39mDownloading (\u001b[33m80%\u001b[39mDownloading (\u001b[33m85%\u001b[39mDownloading (\u001b[33m90%\u001b[39mDownloading (\u001b[33m95%\u001b[39mDownloading (\u001b[33m100%\u001b[39m)\n",
      "  - Installing \u001b[32mlaravel/tinker\u001b[39m (\u001b[33mv2.5.0\u001b[39m): Downloading (\u001b[33mconnecting...\u001b[39mDownloading (\u001b[33m0%\u001b[39m)          Downloading (\u001b[33m35%\u001b[39mDownloading (\u001b[33m70%\u001b[39mDownloading (\u001b[33m100%\u001b[39m)\n",
      "  - Installing \u001b[32mpsr/http-client\u001b[39m (\u001b[33m1.0.1\u001b[39m): Loading from cache\n",
      "  - Installing \u001b[32mbehat/gherkin\u001b[39m (\u001b[33mv4.6.2\u001b[39m): Loading from cache\n",
      "  - Installing \u001b[32msebastian/version\u001b[39m (\u001b[33m3.0.2\u001b[39m): Downloading (\u001b[33mconnecting...\u001b[39mDownloading (\u001b[33m0%\u001b[39m)          Downloading (\u001b[33m100%\u001b[39m)\n",
      "  - Installing \u001b[32msebastian/type\u001b[39m (\u001b[33m2.3.1\u001b[39m): Downloading (\u001b[33mconnecting...\u001b[39mDownloading (\u001b[33m0%\u001b[39m)          Downloading (\u001b[33m35%\u001b[39mDownloading (\u001b[33m60%\u001b[39mDownloading (\u001b[33m95%\u001b[39mDownloading (\u001b[33m100%\u001b[39m)\n",
      "  - Installing \u001b[32msebastian/resource-operations\u001b[39m (\u001b[33m3.0.3\u001b[39m): Downloading (\u001b[33mconnecting...\u001b[39mDownloading (\u001b[33m0%\u001b[39m)        Downloading (\u001b[33m55%\u001b[39mDownloading (\u001b[33m100%\u001b[39m)\n",
      "  - Installing \u001b[32msebastian/recursion-context\u001b[39m (\u001b[33m4.0.4\u001b[39m): Downloading (\u001b[33mconnecting...\u001b[39mDownloading (\u001b[33m0%\u001b[39m)          Downloading (\u001b[33m20%\u001b[39mDownloading (\u001b[33m100%\u001b[39m)\n",
      "  - Installing \u001b[32msebastian/object-reflector\u001b[39m (\u001b[33m2.0.4\u001b[39m): Downloading (\u001b[33mconnecting...\u001b[39mDownloading (\u001b[33m0%\u001b[39m)          Downloading (\u001b[33m100%\u001b[39m)\n",
      "  - Installing \u001b[32msebastian/object-enumerator\u001b[39m (\u001b[33m4.0.4\u001b[39m): Downloading (\u001b[33mconnecting...\u001b[39mDownloading (\u001b[33m0%\u001b[39m)          Downloading (\u001b[33m100%\u001b[39m)\n",
      "  - Installing \u001b[32msebastian/global-state\u001b[39m (\u001b[33m5.0.2\u001b[39m): Downloading (\u001b[33mconnecting...\u001b[39mDownloading (\u001b[33m0%\u001b[39m)          Downloading (\u001b[33m40%\u001b[39mDownloading (\u001b[33m95%\u001b[39mDownloading (\u001b[33m100%\u001b[39m)\n",
      "  - Installing \u001b[32msebastian/exporter\u001b[39m (\u001b[33m4.0.3\u001b[39m): Downloading (\u001b[33mconnecting...\u001b[39mDownloading (\u001b[33m0%\u001b[39m)          Downloading (\u001b[33m20%\u001b[39mDownloading (\u001b[33m100%\u001b[39m)\n",
      "  - Installing \u001b[32msebastian/environment\u001b[39m (\u001b[33m5.1.3\u001b[39m): Downloading (\u001b[33mconnecting...\u001b[39mDownloading (\u001b[33m0%\u001b[39m)          Downloading (\u001b[33m15%\u001b[39mDownloading (\u001b[33m30%\u001b[39mDownloading (\u001b[33m45%\u001b[39mDownloading (\u001b[33m60%\u001b[39mDownloading (\u001b[33m75%\u001b[39mDownloading (\u001b[33m90%\u001b[39mDownloading (\u001b[33m100%\u001b[39m)\n",
      "  - Installing \u001b[32msebastian/diff\u001b[39m (\u001b[33m4.0.4\u001b[39m): Downloading (\u001b[33mconnecting...\u001b[39mDownloading (\u001b[33m0%\u001b[39m)          Downloading (\u001b[33m35%\u001b[39mDownloading (\u001b[33m70%\u001b[39mDownloading (\u001b[33m100%\u001b[39m)\n",
      "  - Installing \u001b[32msebastian/comparator\u001b[39m (\u001b[33m4.0.6\u001b[39m): Downloading (\u001b[33mconnecting...\u001b[39mDownloading (\u001b[33m0%\u001b[39m)          Downloading (\u001b[33m25%\u001b[39mDownloading (\u001b[33m50%\u001b[39mDownloading (\u001b[33m95%\u001b[39mDownloading (\u001b[33m100%\u001b[39m)\n",
      "  - Installing \u001b[32msebastian/code-unit\u001b[39m (\u001b[33m1.0.8\u001b[39m): Downloading (\u001b[33mconnecting...\u001b[39mDownloading (\u001b[33m0%\u001b[39m)          Downloading (\u001b[33m45%\u001b[39mDownloading (\u001b[33m80%\u001b[39mDownloading (\u001b[33m100%\u001b[39m)\n",
      "  - Installing \u001b[32msebastian/cli-parser\u001b[39m (\u001b[33m1.0.1\u001b[39m): Downloading (\u001b[33mconnecting...\u001b[39mDownloading (\u001b[33m0%\u001b[39m)          Downloading (\u001b[33m85%\u001b[39mDownloading (\u001b[33m100%\u001b[39m)\n",
      "  - Installing \u001b[32mphpunit/php-timer\u001b[39m (\u001b[33m5.0.3\u001b[39m): Downloading (\u001b[33mconnecting...\u001b[39mDownloading (\u001b[33m0%\u001b[39m)          Downloading (\u001b[33m55%\u001b[39mDownloading (\u001b[33m100%\u001b[39m)\n",
      "  - Installing \u001b[32mphpunit/php-text-template\u001b[39m (\u001b[33m2.0.4\u001b[39m): Downloading (\u001b[33mconnecting...\u001b[39mDownloading (\u001b[33m0%\u001b[39m)          Downloading (\u001b[33m20%\u001b[39mDownloading (\u001b[33m40%\u001b[39mDownloading (\u001b[33m100%\u001b[39m)\n"
     ]
    },
    {
     "name": "stdout",
     "output_type": "stream",
     "text": [
      "  - Installing \u001b[32mphpunit/php-invoker\u001b[39m (\u001b[33m3.1.1\u001b[39m): Downloading (\u001b[33mconnecting...\u001b[39mDownloading (\u001b[33m0%\u001b[39m)          Downloading (\u001b[33m100%\u001b[39m)\n",
      "  - Installing \u001b[32mphpunit/php-file-iterator\u001b[39m (\u001b[33m3.0.5\u001b[39m): Downloading (\u001b[33mconnecting...\u001b[39mDownloading (\u001b[33m0%\u001b[39m)          Downloading (\u001b[33m20%\u001b[39mDownloading (\u001b[33m100%\u001b[39m)\n",
      "  - Installing \u001b[32mtheseer/tokenizer\u001b[39m (\u001b[33m1.2.0\u001b[39m): Loading from cache\n",
      "  - Installing \u001b[32msebastian/lines-of-code\u001b[39m (\u001b[33m1.0.3\u001b[39m): Downloading (\u001b[33mconnecting...\u001b[39mDownloading (\u001b[33m0%\u001b[39m)          Downloading (\u001b[33m15%\u001b[39mDownloading (\u001b[33m100%\u001b[39m)\n",
      "  - Installing \u001b[32msebastian/complexity\u001b[39m (\u001b[33m2.0.2\u001b[39m): Downloading (\u001b[33mconnecting...\u001b[39mDownloading (\u001b[33m0%\u001b[39m)          Downloading (\u001b[33m25%\u001b[39mDownloading (\u001b[33m50%\u001b[39mDownloading (\u001b[33m75%\u001b[39mDownloading (\u001b[33m95%\u001b[39mDownloading (\u001b[33m100%\u001b[39m)\n",
      "  - Installing \u001b[32msebastian/code-unit-reverse-lookup\u001b[39m (\u001b[33m2.0.3\u001b[39m): Downloading (\u001b[33mconnecting...\u001b[39mDownloading (\u001b[33m0%\u001b[39m)          Downloading (\u001b[33m100%\u001b[39m)\n",
      "  - Installing \u001b[32mphpunit/php-code-coverage\u001b[39m (\u001b[33m9.2.5\u001b[39m): Downloading (\u001b[33mconnecting...\u001b[39mDownloading (\u001b[33m0%\u001b[39m)        Downloading (\u001b[33m5%\u001b[39Downloading (\u001b[33m10%\u001b[39mDownloading (\u001b[33m15%\u001b[39mDownloading (\u001b[33m20%\u001b[39mDownloading (\u001b[33m25%\u001b[39mDownloading (\u001b[33m30%\u001b[39mDownloading (\u001b[33m35%\u001b[39mDownloading (\u001b[33m40%\u001b[39mDownloading (\u001b[33m45%\u001b[39mDownloading (\u001b[33m50%\u001b[39mDownloading (\u001b[33m55%\u001b[39mDownloading (\u001b[33m60%\u001b[39mDownloading (\u001b[33m65%\u001b[39mDownloading (\u001b[33m70%\u001b[39mDownloading (\u001b[33m75%\u001b[39mDownloading (\u001b[33m80%\u001b[39mDownloading (\u001b[33m85%\u001b[39mDownloading (\u001b[33m90%\u001b[39mDownloading (\u001b[33m95%\u001b[39mDownloading (\u001b[33m100%\u001b[39m)\n",
      "  - Installing \u001b[32mphpdocumentor/reflection-common\u001b[39m (\u001b[33m2.2.0\u001b[39m): Loading from cache\n",
      "  - Installing \u001b[32mphpdocumentor/type-resolver\u001b[39m (\u001b[33m1.4.0\u001b[39m): Loading from cache\n",
      "  - Installing \u001b[32mphpdocumentor/reflection-docblock\u001b[39m (\u001b[33m5.2.2\u001b[39m): Loading from cache\n",
      "  - Installing \u001b[32mdoctrine/instantiator\u001b[39m (\u001b[33m1.4.0\u001b[39m): Downloading (\u001b[33mconnecting...\u001b[39mDownloading (\u001b[33m0%\u001b[39m)          Downloading (\u001b[33m25%\u001b[39mDownloading (\u001b[33m85%\u001b[39mDownloading (\u001b[33m100%\u001b[39m)\n",
      "  - Installing \u001b[32mphpspec/prophecy\u001b[39m (\u001b[33m1.12.1\u001b[39m): Downloading (\u001b[33mconnecting...\u001b[39mDownloading (\u001b[33m0%\u001b[39m)          Downloading (\u001b[33m5%\u001b[39Downloading (\u001b[33m15%\u001b[39mDownloading (\u001b[33m20%\u001b[39mDownloading (\u001b[33m30%\u001b[39mDownloading (\u001b[33m35%\u001b[39mDownloading (\u001b[33m40%\u001b[39mDownloading (\u001b[33m45%\u001b[39mDownloading (\u001b[33m50%\u001b[39mDownloading (\u001b[33m55%\u001b[39mDownloading (\u001b[33m65%\u001b[39mDownloading (\u001b[33m70%\u001b[39mDownloading (\u001b[33m80%\u001b[39mDownloading (\u001b[33m85%\u001b[39mDownloading (\u001b[33m90%\u001b[39mDownloading (\u001b[33m95%\u001b[39mDownloading (\u001b[33m100%\u001b[39m)\n",
      "  - Installing \u001b[32mphar-io/version\u001b[39m (\u001b[33m3.0.4\u001b[39m): Downloading (\u001b[33mconnecting...\u001b[39mDownloading (\u001b[33m0%\u001b[39m)          Downloading (\u001b[33m25%\u001b[39mDownloading (\u001b[33m50%\u001b[39mDownloading (\u001b[33m100%\u001b[39m)\n",
      "  - Installing \u001b[32mphar-io/manifest\u001b[39m (\u001b[33m2.0.1\u001b[39m): Loading from cache\n",
      "  - Installing \u001b[32mmyclabs/deep-copy\u001b[39m (\u001b[33m1.10.2\u001b[39m): Downloading (\u001b[33mconnecting...\u001b[39mDownloading (\u001b[33m0%\u001b[39m)          Downloading (\u001b[33m25%\u001b[39mDownloading (\u001b[33m50%\u001b[39mDownloading (\u001b[33m75%\u001b[39mDownloading (\u001b[33m100%\u001b[39m)\n",
      "  - Installing \u001b[32mphpunit/phpunit\u001b[39m (\u001b[33m9.5.0\u001b[39m): Downloading (\u001b[33mconnecting...\u001b[39mDownloading (\u001b[33m0%\u001b[39m)        Downloading (\u001b[33m5%\u001b[39Downloading (\u001b[33m10%\u001b[39mDownloading (\u001b[33m15%\u001b[39mDownloading (\u001b[33m20%\u001b[39mDownloading (\u001b[33m25%\u001b[39mDownloading (\u001b[33m30%\u001b[39mDownloading (\u001b[33m35%\u001b[39mDownloading (\u001b[33m40%\u001b[39mDownloading (\u001b[33m45%\u001b[39mDownloading (\u001b[33m50%\u001b[39mDownloading (\u001b[33m55%\u001b[39mDownloading (\u001b[33m60%\u001b[39mDownloading (\u001b[33m65%\u001b[39mDownloading (\u001b[33m70%\u001b[39mDownloading (\u001b[33m75%\u001b[39mDownloading (\u001b[33m80%\u001b[39mDownloading (\u001b[33m85%\u001b[39mDownloading (\u001b[33m90%\u001b[39mDownloading (\u001b[33m95%\u001b[39mDownloading (\u001b[33m100%\u001b[39m)\n",
      "  - Installing \u001b[32mcodeception/phpunit-wrapper\u001b[39m (\u001b[33m9.0.5\u001b[39m): Downloading (\u001b[33mconnecting...\u001b[39mDownloading (\u001b[33m100%\u001b[39m)        \n",
      "  - Installing \u001b[32mcodeception/lib-asserts\u001b[39m (\u001b[33m1.13.2\u001b[39m): Downloading (\u001b[33mconnecting...\u001b[39mDownloading (\u001b[33m0%\u001b[39m)          Downloading (\u001b[33m90%\u001b[39mDownloading (\u001b[33m100%\u001b[39m)\n",
      "  - Installing \u001b[32msymfony/yaml\u001b[39m (\u001b[33mv5.2.0\u001b[39m): Downloading (\u001b[33mconnecting...\u001b[39mDownloading (\u001b[33m0%\u001b[39m)        Downloading (\u001b[33m25%\u001b[39mDownloading (\u001b[33m45%\u001b[39mDownloading (\u001b[33m70%\u001b[39mDownloading (\u001b[33m90%\u001b[39mDownloading (\u001b[33m95%\u001b[39mDownloading (\u001b[33m100%\u001b[39m)\n",
      "  - Installing \u001b[32mcodeception/stub\u001b[39m (\u001b[33m3.7.0\u001b[39m): Loading from cache\n",
      "  - Installing \u001b[32mcodeception/codeception\u001b[39m (\u001b[33m4.1.12\u001b[39m): Downloading (\u001b[33mconnecting...\u001b[39mDownloading (\u001b[33m0%\u001b[39m)        Downloading (\u001b[33m5%\u001b[39Downloading (\u001b[33m10%\u001b[39mDownloading (\u001b[33m15%\u001b[39mDownloading (\u001b[33m20%\u001b[39mDownloading (\u001b[33m25%\u001b[39mDownloading (\u001b[33m30%\u001b[39mDownloading (\u001b[33m35%\u001b[39mDownloading (\u001b[33m40%\u001b[39mDownloading (\u001b[33m45%\u001b[39mDownloading (\u001b[33m50%\u001b[39mDownloading (\u001b[33m55%\u001b[39mDownloading (\u001b[33m60%\u001b[39mDownloading (\u001b[33m65%\u001b[39mDownloading (\u001b[33m70%\u001b[39mDownloading (\u001b[33m75%\u001b[39mDownloading (\u001b[33m80%\u001b[39mDownloading (\u001b[33m85%\u001b[39mDownloading (\u001b[33m90%\u001b[39mDownloading (\u001b[33m95%\u001b[39mDownloading (\u001b[33m100%\u001b[39m)\n",
      "  - Installing \u001b[32mcodeception/module-asserts\u001b[39m (\u001b[33m1.3.1\u001b[39m): Loading from cache\n",
      "  - Installing \u001b[32mcodeception/module-db\u001b[39m (\u001b[33m1.0.2\u001b[39m): Loading from cache\n",
      "  - Installing \u001b[32mcodeception/module-filesystem\u001b[39m (\u001b[33m1.0.3\u001b[39m): Loading from cache\n",
      "  - Installing \u001b[32mguzzlehttp/guzzle\u001b[39m (\u001b[33m7.2.0\u001b[39m): Downloading (\u001b[33mconnecting...\u001b[39mDownloading (\u001b[33m0%\u001b[39m)          Downloading (\u001b[33m5%\u001b[39Downloading (\u001b[33m10%\u001b[39mDownloading (\u001b[33m15%\u001b[39mDownloading (\u001b[33m20%\u001b[39mDownloading (\u001b[33m25%\u001b[39mDownloading (\u001b[33m30%\u001b[39mDownloading (\u001b[33m35%\u001b[39mDownloading (\u001b[33m40%\u001b[39mDownloading (\u001b[33m45%\u001b[39mDownloading (\u001b[33m50%\u001b[39mDownloading (\u001b[33m55%\u001b[39mDownloading (\u001b[33m100%\u001b[39m)\n",
      "  - Installing \u001b[32msymfony/dom-crawler\u001b[39m (\u001b[33mv5.2.0\u001b[39m): Downloading (\u001b[33mconnecting...\u001b[39mDownloading (\u001b[33m0%\u001b[39m)        Downloading (\u001b[33m35%\u001b[39mDownloading (\u001b[33m40%\u001b[39mDownloading (\u001b[33m70%\u001b[39mDownloading (\u001b[33m75%\u001b[39mDownloading (\u001b[33m100%\u001b[39m)\n",
      "  - Installing \u001b[32msymfony/browser-kit\u001b[39m (\u001b[33mv5.2.0\u001b[39m): Downloading (\u001b[33mconnecting...\u001b[39mDownloading (\u001b[33m0%\u001b[39m)        Downloading (\u001b[33m55%\u001b[39mDownloading (\u001b[33m75%\u001b[39mDownloading (\u001b[33m100%\u001b[39m)\n",
      "  - Installing \u001b[32mcodeception/lib-innerbrowser\u001b[39m (\u001b[33m1.3.4\u001b[39m): Downloading (\u001b[33mconnecting...\u001b[39mDownloading (\u001b[33m0%\u001b[39m)          Downloading (\u001b[33m20%\u001b[39mDownloading (\u001b[33m40%\u001b[39mDownloading (\u001b[33m60%\u001b[39mDownloading (\u001b[33m80%\u001b[39mDownloading (\u001b[33m100%\u001b[39m)\n",
      "  - Installing \u001b[32mcodeception/module-phpbrowser\u001b[39m (\u001b[33m1.0.2\u001b[39m): Downloading (\u001b[33mconnecting...\u001b[39mDownloading (\u001b[33m0%\u001b[39m)        Downloading (\u001b[33m70%\u001b[39mDownloading (\u001b[33m100%\u001b[39m)\n",
      "  - Installing \u001b[32mpredis/predis\u001b[39m (\u001b[33mv1.1.6\u001b[39m): Loading from cache\n",
      "  - Installing \u001b[32mcodeception/module-redis\u001b[39m (\u001b[33m1.0.1\u001b[39m): Downloading (\u001b[33mconnecting...\u001b[39mDownloading (\u001b[33m100%\u001b[39m)        \n",
      "  - Installing \u001b[32mphp-webdriver/webdriver\u001b[39m (\u001b[33m1.9.0\u001b[39m): Downloading (\u001b[33mconnecting...\u001b[39mDownloading (\u001b[33m0%\u001b[39m)        Downloading (\u001b[33m10%\u001b[39mDownloading (\u001b[33m15%\u001b[39mDownloading (\u001b[33m20%\u001b[39mDownloading (\u001b[33m25%\u001b[39mDownloading (\u001b[33m30%\u001b[39mDownloading (\u001b[33m35%\u001b[39mDownloading (\u001b[33m40%\u001b[39mDownloading (\u001b[33m45%\u001b[39mDownloading (\u001b[33m50%\u001b[39mDownloading (\u001b[33m55%\u001b[39mDownloading (\u001b[33m60%\u001b[39mDownloading (\u001b[33m65%\u001b[39mDownloading (\u001b[33m70%\u001b[39mDownloading (\u001b[33m75%\u001b[39mDownloading (\u001b[33m85%\u001b[39mDownloading (\u001b[33m95%\u001b[39mDownloading (\u001b[33m100%\u001b[39m)\n",
      "  - Installing \u001b[32mcodeception/module-webdriver\u001b[39m (\u001b[33m1.1.4\u001b[39m): Downloading (\u001b[33mconnecting...\u001b[39mDownloading (\u001b[33m0%\u001b[39m)          Downloading (\u001b[33m5%\u001b[39Downloading (\u001b[33m55%\u001b[39mDownloading (\u001b[33m60%\u001b[39mDownloading (\u001b[33m65%\u001b[39mDownloading (\u001b[33m100%\u001b[39m)\n",
      "  - Installing \u001b[32mfilp/whoops\u001b[39m (\u001b[33m2.9.1\u001b[39m): Downloading (\u001b[33mconnecting...\u001b[39mDownloading (\u001b[33m0%\u001b[39m)          Downloading (\u001b[33m10%\u001b[39mDownloading (\u001b[33m15%\u001b[39mDownloading (\u001b[33m25%\u001b[39mDownloading (\u001b[33m35%\u001b[39mDownloading (\u001b[33m50%\u001b[39mDownloading (\u001b[33m60%\u001b[39mDownloading (\u001b[33m75%\u001b[39mDownloading (\u001b[33m85%\u001b[39mDownloading (\u001b[33m100%\u001b[39m)\n",
      "  - Installing \u001b[32mfacade/ignition-contracts\u001b[39m (\u001b[33m1.0.2\u001b[39m): Downloading (\u001b[33mconnecting...\u001b[39mDownloading (\u001b[33m0%\u001b[39m)          Downloading (\u001b[33m100%\u001b[39m)\n",
      "  - Installing \u001b[32mfacade/flare-client-php\u001b[39m (\u001b[33m1.3.7\u001b[39m): Downloading (\u001b[33mconnecting...\u001b[39mDownloading (\u001b[33m0%\u001b[39m)          Downloading (\u001b[33m5%\u001b[39Downloading (\u001b[33m60%\u001b[39mDownloading (\u001b[33m65%\u001b[39mDownloading (\u001b[33m70%\u001b[39mDownloading (\u001b[33m100%\u001b[39m)\n",
      "  - Installing \u001b[32mfacade/ignition\u001b[39m (\u001b[33m2.5.3\u001b[39m): Downloading (\u001b[33mconnecting...\u001b[39mDownloading (\u001b[33m100%\u001b[39m)        \n",
      "  - Installing \u001b[32mfakerphp/faker\u001b[39m (\u001b[33mv1.12.1\u001b[39m): Downloading (\u001b[33mconnecting...\u001b[39mDownloading (\u001b[33m100%\u001b[39m)        \n",
      "  - Installing \u001b[32mlaravel/breeze\u001b[39m (\u001b[33mv1.0.0\u001b[39m): Downloading (\u001b[33mconnecting...\u001b[39mDownloading (\u001b[33m100%\u001b[39m)        \n",
      "  - Installing \u001b[32mlaravel/sail\u001b[39m (\u001b[33mv0.0.5\u001b[39m): Downloading (\u001b[33mconnecting...\u001b[39mDownloading (\u001b[33m0%\u001b[39m)          Downloading (\u001b[33m15%\u001b[39mDownloading (\u001b[33m30%\u001b[39mDownloading (\u001b[33m45%\u001b[39mDownloading (\u001b[33m100%\u001b[39m)\n",
      "  - Installing \u001b[32mhamcrest/hamcrest-php\u001b[39m (\u001b[33mv2.0.1\u001b[39m): Downloading (\u001b[33mconnecting...\u001b[39mDownloading (\u001b[33m0%\u001b[39m)          Downloading (\u001b[33m5%\u001b[39Downloading (\u001b[33m10%\u001b[39mDownloading (\u001b[33m15%\u001b[39mDownloading (\u001b[33m20%\u001b[39mDownloading (\u001b[33m25%\u001b[39mDownloading (\u001b[33m30%\u001b[39mDownloading (\u001b[33m35%\u001b[39mDownloading (\u001b[33m40%\u001b[39mDownloading (\u001b[33m45%\u001b[39mDownloading (\u001b[33m55%\u001b[39mDownloading (\u001b[33m60%\u001b[39mDownloading (\u001b[33m70%\u001b[39mDownloading (\u001b[33m75%\u001b[39mDownloading (\u001b[33m85%\u001b[39mDownloading (\u001b[33m90%\u001b[39mDownloading (\u001b[33m95%\u001b[39mDownloading (\u001b[33m100%\u001b[39m)\n",
      "  - Installing \u001b[32mmockery/mockery\u001b[39m (\u001b[33m1.4.2\u001b[39m): Downloading (\u001b[33mconnecting...\u001b[39mDownloading (\u001b[33m0%\u001b[39m)        Downloading (\u001b[33m5%\u001b[39Downloading (\u001b[33m10%\u001b[39mDownloading (\u001b[33m15%\u001b[39mDownloading (\u001b[33m20%\u001b[39mDownloading (\u001b[33m25%\u001b[39mDownloading (\u001b[33m30%\u001b[39mDownloading (\u001b[33m35%\u001b[39mDownloading (\u001b[33m40%\u001b[39mDownloading (\u001b[33m45%\u001b[39mDownloading (\u001b[33m50%\u001b[39mDownloading (\u001b[33m55%\u001b[39mDownloading (\u001b[33m60%\u001b[39mDownloading (\u001b[33m65%\u001b[39mDownloading (\u001b[33m70%\u001b[39mDownloading (\u001b[33m75%\u001b[39mDownloading (\u001b[33m80%\u001b[39mDownloading (\u001b[33m85%\u001b[39mDownloading (\u001b[33m90%\u001b[39mDownloading (\u001b[33m95%\u001b[39mDownloading (\u001b[33m100%\u001b[39m)\n",
      "  - Installing \u001b[32mnunomaduro/collision\u001b[39m (\u001b[33mv5.1.0\u001b[39m): Downloading (\u001b[33mconnecting...\u001b[39mDownloading (\u001b[33m0%\u001b[39m)        Downloading (\u001b[33m25%\u001b[39mDownloading (\u001b[33m50%\u001b[39mDownloading (\u001b[33m55%\u001b[39mDownloading (\u001b[33m80%\u001b[39mDownloading (\u001b[33m100%\u001b[39m)\n",
      "voku/portable-ascii suggests installing ext-intl (Use Intl for transliterator_transliterate() support)\n",
      "symfony/var-dumper suggests installing ext-intl (To show region name in time zone dump)\n",
      "symfony/routing suggests installing doctrine/annotations (For using the annotation loader)\n",
      "symfony/routing suggests installing symfony/config (For using the all-in-one router or any loader)\n",
      "symfony/routing suggests installing symfony/expression-language (For using expression matching)\n",
      "symfony/polyfill-intl-normalizer suggests installing ext-intl (For best performance)\n",
      "symfony/polyfill-intl-idn suggests installing ext-intl (For best performance)\n",
      "symfony/http-client-contracts suggests installing symfony/http-client-implementation\n",
      "symfony/event-dispatcher suggests installing symfony/dependency-injection\n",
      "symfony/http-kernel suggests installing symfony/config\n",
      "symfony/http-kernel suggests installing symfony/dependency-injection\n",
      "symfony/polyfill-intl-grapheme suggests installing ext-intl (For best performance)\n",
      "symfony/service-contracts suggests installing symfony/service-implementation\n",
      "symfony/console suggests installing symfony/lock\n",
      "egulias/email-validator suggests installing ext-intl (PHP Internationalization Libraries are required to use the SpoofChecking validation)\n",
      "swiftmailer/swiftmailer suggests installing ext-intl (Needed to support internationalized email addresses)\n",
      "ramsey/uuid suggests installing ext-bcmath (Enables faster math with arbitrary-precision integers using BCMath.)\n",
      "ramsey/uuid suggests installing ext-gmp (Enables faster math with arbitrary-precision integers using GMP.)\n",
      "ramsey/uuid suggests installing ext-uuid (Enables the use of PeclUuidTimeGenerator and PeclUuidRandomGenerator.)\n",
      "ramsey/uuid suggests installing paragonie/random-lib (Provides RandomLib for use with the RandomLibAdapter)\n",
      "ramsey/uuid suggests installing ramsey/uuid-doctrine (Allows the use of Ramsey\\Uuid\\Uuid as Doctrine field type.)\n",
      "symfony/translation suggests installing symfony/config\n",
      "monolog/monolog suggests installing aws/aws-sdk-php (Allow sending log messages to AWS services like DynamoDB)\n",
      "monolog/monolog suggests installing doctrine/couchdb (Allow sending log messages to a CouchDB server)\n",
      "monolog/monolog suggests installing elasticsearch/elasticsearch (Allow sending log messages to an Elasticsearch server via official client)\n",
      "monolog/monolog suggests installing ext-amqp (Allow sending log messages to an AMQP server (1.0+ required))\n",
      "monolog/monolog suggests installing ext-mongodb (Allow sending log messages to a MongoDB server (via driver))\n",
      "monolog/monolog suggests installing graylog2/gelf-php (Allow sending log messages to a GrayLog2 server)\n",
      "monolog/monolog suggests installing mongodb/mongodb (Allow sending log messages to a MongoDB server (via library))\n",
      "monolog/monolog suggests installing php-amqplib/php-amqplib (Allow sending log messages to an AMQP server using php-amqplib)\n",
      "monolog/monolog suggests installing php-console/php-console (Allow sending log messages to Google Chrome)\n",
      "monolog/monolog suggests installing rollbar/rollbar (Allow sending log messages to Rollbar)\n",
      "monolog/monolog suggests installing ruflin/elastica (Allow sending log messages to an Elastic Search server)\n",
      "league/flysystem suggests installing league/flysystem-aws-s3-v2 (Allows you to use S3 storage with AWS SDK v2)\n",
      "league/flysystem suggests installing league/flysystem-aws-s3-v3 (Allows you to use S3 storage with AWS SDK v3)\n",
      "league/flysystem suggests installing league/flysystem-azure (Allows you to use Windows Azure Blob storage)\n",
      "league/flysystem suggests installing league/flysystem-cached-adapter (Flysystem adapter decorator for metadata caching)\n",
      "league/flysystem suggests installing league/flysystem-eventable-filesystem (Allows you to use EventableFilesystem)\n",
      "league/flysystem suggests installing league/flysystem-rackspace (Allows you to use Rackspace Cloud Files)\n",
      "league/flysystem suggests installing league/flysystem-sftp (Allows you to use SFTP server storage via phpseclib)\n",
      "league/flysystem suggests installing league/flysystem-webdav (Allows you to use WebDAV storage)\n",
      "league/flysystem suggests installing league/flysystem-ziparchive (Allows you to use ZipArchive adapter)\n",
      "league/flysystem suggests installing spatie/flysystem-dropbox (Allows you to use Dropbox storage)\n",
      "league/flysystem suggests installing srmklive/flysystem-dropbox-v2 (Allows you to use Dropbox storage for PHP 5 applications)\n",
      "laravel/framework suggests installing aws/aws-sdk-php (Required to use the SQS queue driver, DynamoDb failed job storage and SES mail driver (^3.155).)\n",
      "laravel/framework suggests installing doctrine/dbal (Required to rename columns and drop SQLite columns (^2.6|^3.0).)\n",
      "laravel/framework suggests installing ext-gd (Required to use Illuminate\\Http\\Testing\\FileFactory::image().)\n",
      "laravel/framework suggests installing ext-memcached (Required to use the memcache cache driver.)\n",
      "laravel/framework suggests installing league/flysystem-aws-s3-v3 (Required to use the Flysystem S3 driver (^1.0).)\n",
      "laravel/framework suggests installing league/flysystem-cached-adapter (Required to use the Flysystem cache (^1.0).)\n",
      "laravel/framework suggests installing league/flysystem-sftp (Required to use the Flysystem SFTP driver (^1.0).)\n",
      "laravel/framework suggests installing nyholm/psr7 (Required to use PSR-7 bridging features (^1.2).)\n",
      "laravel/framework suggests installing pda/pheanstalk (Required to use the beanstalk queue driver (^4.0).)\n",
      "laravel/framework suggests installing pusher/pusher-php-server (Required to use the Pusher broadcast driver (^4.0).)\n",
      "laravel/framework suggests installing symfony/cache (Required to PSR-6 cache bridge (^5.1.4).)\n",
      "laravel/framework suggests installing symfony/filesystem (Required to enable support for relative symbolic links (^5.1.4).)\n",
      "laravel/framework suggests installing symfony/psr-http-message-bridge (Required to use PSR-7 bridging features (^2.0).)\n",
      "laravel/framework suggests installing wildbit/swiftmailer-postmark (Required to use Postmark mail driver (^3.0).)\n",
      "guzzlehttp/psr7 suggests installing laminas/laminas-httphandlerrunner (Emit PSR-7 responses)\n",
      "psy/psysh suggests installing ext-pdo-sqlite (The doc command requires SQLite to work.)\n",
      "psy/psysh suggests installing hoa/console (A pure PHP readline implementation. You'll want this if your PHP install doesn't already support readline or libedit.)\n",
      "sebastian/global-state suggests installing ext-uopz (*)\n",
      "phpunit/php-code-coverage suggests installing ext-pcov (*)\n",
      "phpunit/phpunit suggests installing ext-soap (*)\n",
      "codeception/codeception suggests installing codeception/specify (BDD-style code blocks)\n",
      "codeception/codeception suggests installing codeception/verify (BDD-style assertions)\n",
      "codeception/codeception suggests installing hoa/console (For interactive console functionality)\n",
      "codeception/codeception suggests installing stecman/symfony-console-completion (For BASH autocompletion)\n",
      "codeception/codeception suggests installing symfony/phpunit-bridge (For phpunit-bridge support)\n",
      "guzzlehttp/guzzle suggests installing ext-intl (Required for Internationalized Domain Name (IDN) support)\n",
      "codeception/module-phpbrowser suggests installing codeception/phpbuiltinserver (Start and stop PHP built-in web server for your tests)\n",
      "predis/predis suggests installing ext-phpiredis (Allows faster serialization and deserialization of the Redis protocol)\n",
      "php-webdriver/webdriver suggests installing ext-SimpleXML (For Firefox profile creation)\n",
      "codeception/module-webdriver suggests installing codeception/phpbuiltinserver (Start and stop PHP built-in web server for your tests)\n",
      "filp/whoops suggests installing whoops/soap (Formats errors as SOAP responses)\n",
      "facade/ignition suggests installing laravel/telescope (^3.1)\n",
      "\u001b[32mGenerating optimized autoload files\u001b[39m\n"
     ]
    },
    {
     "name": "stdout",
     "output_type": "stream",
     "text": [
      "> Illuminate\\Foundation\\ComposerScripts::postAutoloadDump\n",
      "> @php artisan package:discover --ansi\n",
      "Discovered Package: \u001b[32mfacade/ignition\u001b[39m\n",
      "Discovered Package: \u001b[32mfideloper/proxy\u001b[39m\n",
      "Discovered Package: \u001b[32mfruitcake/laravel-cors\u001b[39m\n",
      "Discovered Package: \u001b[32mgraham-campbell/markdown\u001b[39m\n",
      "Discovered Package: \u001b[32mlaravel/breeze\u001b[39m\n",
      "Discovered Package: \u001b[32mlaravel/sail\u001b[39m\n",
      "Discovered Package: \u001b[32mlaravel/tinker\u001b[39m\n",
      "Discovered Package: \u001b[32mnesbot/carbon\u001b[39m\n",
      "Discovered Package: \u001b[32mnunomaduro/collision\u001b[39m\n",
      "\u001b[32mPackage manifest generated successfully.\u001b[39m\n",
      "\u001b[32m79 packages you are using are looking for funding.\u001b[39m\n",
      "\u001b[32mUse the `composer fund` command to find out more!\u001b[39m\n"
     ]
    }
   ],
   "source": [
    "! composer install"
   ]
  },
  {
   "cell_type": "code",
   "execution_count": 5,
   "metadata": {},
   "outputs": [],
   "source": [
    "! cp .env.example .env"
   ]
  },
  {
   "cell_type": "code",
   "execution_count": 6,
   "metadata": {},
   "outputs": [
    {
     "name": "stdout",
     "output_type": "stream",
     "text": [
      "\u001b[32mApplication key set successfully.\u001b[39m\r\n"
     ]
    }
   ],
   "source": [
    "! php artisan key:generate"
   ]
  },
  {
   "cell_type": "code",
   "execution_count": 7,
   "metadata": {},
   "outputs": [
    {
     "name": "stdout",
     "output_type": "stream",
     "text": [
      "\u001b[32mDropped all tables successfully.\u001b[39m\n",
      "\u001b[32mMigration table created successfully.\u001b[39m\n",
      "\u001b[33mMigrating:\u001b[39m 2014_10_12_000000_create_users_table\n",
      "\u001b[32mMigrated:\u001b[39m  2014_10_12_000000_create_users_table (40.46ms)\n",
      "\u001b[33mMigrating:\u001b[39m 2014_10_12_100000_create_password_resets_table\n",
      "\u001b[32mMigrated:\u001b[39m  2014_10_12_100000_create_password_resets_table (35.02ms)\n",
      "\u001b[33mMigrating:\u001b[39m 2019_08_19_000000_create_failed_jobs_table\n",
      "\u001b[32mMigrated:\u001b[39m  2019_08_19_000000_create_failed_jobs_table (37.54ms)\n",
      "\u001b[33mMigrating:\u001b[39m 2020_12_15_145710_create_comments_table\n",
      "\u001b[32mMigrated:\u001b[39m  2020_12_15_145710_create_comments_table (18.09ms)\n"
     ]
    }
   ],
   "source": [
    "! php artisan migrate:fresh"
   ]
  },
  {
   "cell_type": "code",
   "execution_count": 8,
   "metadata": {},
   "outputs": [
    {
     "name": "stdout",
     "output_type": "stream",
     "text": [
      "\u001b[33mSeeding:\u001b[39m Database\\Seeders\\UserSeeder\n",
      "\u001b[32mSeeded:\u001b[39m  Database\\Seeders\\UserSeeder (75.63ms)\n",
      "\u001b[32mDatabase seeding completed successfully.\u001b[39m\n"
     ]
    }
   ],
   "source": [
    "! php artisan db:seed"
   ]
  },
  {
   "cell_type": "code",
   "execution_count": 9,
   "metadata": {},
   "outputs": [
    {
     "name": "stdout",
     "output_type": "stream",
     "text": [
      "mysqldump: [Warning] Using a password on the command line interface can be insecure.\r\n"
     ]
    }
   ],
   "source": [
    "! docker exec mysql mysqldump -u root --password=root123 test > tests_codeception/_data/dump.sql"
   ]
  },
  {
   "cell_type": "code",
   "execution_count": 10,
   "metadata": {},
   "outputs": [
    {
     "name": "stdout",
     "output_type": "stream",
     "text": [
      "PHPUnit 9.5.0 by Sebastian Bergmann and contributors.\n",
      "\n",
      ".................                                                 17 / 17 (100%)\n",
      "\n",
      "Time: 00:02.042, Memory: 36.00 MB\n",
      "\n",
      "\u001b[30;42mOK (17 tests, 27 assertions)\u001b[0m\n"
     ]
    }
   ],
   "source": [
    "! vendor/bin/phpunit"
   ]
  },
  {
   "cell_type": "code",
   "execution_count": 11,
   "metadata": {},
   "outputs": [],
   "source": [
    "import subprocess\n",
    "artisanServe = subprocess.Popen(['php', 'artisan', 'serve', '--port', '8888'])"
   ]
  },
  {
   "cell_type": "code",
   "execution_count": 12,
   "metadata": {},
   "outputs": [
    {
     "name": "stdout",
     "output_type": "stream",
     "text": [
      "Codeception PHP Testing Framework v4.1.12\n",
      "Powered by PHPUnit 9.5.0 by Sebastian Bergmann and contributors.\n",
      "Running with seed: \n",
      "\n",
      "\n",
      "\u001b[1mAcceptance Tests (3) \u001b[22m-----------------------------------------------------------\n",
      "\u001b[32;1m✔\u001b[39;22m \u001b[35;1m01_HomepageCept:\u001b[39;22m See Laravel links on homepage \u001b[32m(0.23s)\u001b[39m\n",
      "\u001b[32;1m✔\u001b[39;22m \u001b[35;1m02_CommentsCept:\u001b[39;22m See comments from DB displayed on page \u001b[32m(0.21s)\u001b[39m\n",
      "\u001b[32;1m✔\u001b[39;22m \u001b[35;1m03_LoginCept:\u001b[39;22m Login with existing user \u001b[32m(0.39s)\u001b[39m\n",
      "--------------------------------------------------------------------------------\n",
      "\n",
      "\u001b[1mFunctional Tests (0) \u001b[22m-----------------------------------------------------------\n",
      "--------------------------------------------------------------------------------\n",
      "\n",
      "\u001b[1mUnit Tests (0) \u001b[22m-----------------------------------------------------------------\n",
      "--------------------------------------------------------------------------------\n",
      "\n",
      "\n",
      "Time: 00:01.811, Memory: 14.00 MB\n",
      "\n",
      "\u001b[30;42mOK (3 tests, 14 assertions)\u001b[0m\n"
     ]
    }
   ],
   "source": [
    "! vendor/bin/codecept run"
   ]
  },
  {
   "cell_type": "code",
   "execution_count": 13,
   "metadata": {},
   "outputs": [],
   "source": [
    "! killall php php7.4"
   ]
  },
  {
   "cell_type": "code",
   "execution_count": 14,
   "metadata": {},
   "outputs": [
    {
     "name": "stdout",
     "output_type": "stream",
     "text": [
      "/home/student/php_2020_platforma_do_nauki_jezykow/Language-learning\n"
     ]
    }
   ],
   "source": [
    "%cd .."
   ]
  },
  {
   "cell_type": "markdown",
   "metadata": {},
   "source": [
    "Stop database:"
   ]
  },
  {
   "cell_type": "code",
   "execution_count": 15,
   "metadata": {},
   "outputs": [
    {
     "name": "stdout",
     "output_type": "stream",
     "text": [
      "mysql\r\n"
     ]
    }
   ],
   "source": [
    "! docker container stop mysql"
   ]
  }
 ],
 "metadata": {
  "kernelspec": {
   "display_name": "Python 3",
   "language": "python",
   "name": "python3"
  },
  "language_info": {
   "codemirror_mode": {
    "name": "ipython",
    "version": 3
   },
   "file_extension": ".py",
   "mimetype": "text/x-python",
   "name": "python",
   "nbconvert_exporter": "python",
   "pygments_lexer": "ipython3",
   "version": "3.8.3"
  }
 },
 "nbformat": 4,
 "nbformat_minor": 4
}
