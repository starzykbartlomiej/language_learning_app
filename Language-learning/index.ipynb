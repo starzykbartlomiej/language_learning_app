{
 "cells": [
  {
   "cell_type": "markdown",
   "metadata": {},
   "source": [
    "# PHP 2020"
   ]
  },
  {
   "cell_type": "markdown",
   "metadata": {},
   "source": [
    "# Language-learning"
   ]
  },
  {
   "cell_type": "markdown",
   "metadata": {},
   "source": [
    "Start database:"
   ]
  },
  {
   "cell_type": "code",
   "execution_count": 1,
   "metadata": {},
   "outputs": [
    {
     "name": "stdout",
     "output_type": "stream",
     "text": [
      "docker: Error response from daemon: Conflict. The container name \"/mysql\" is already in use by container \"c1554ee1d447b885837e7265c319570e7e3c8efe4739ffc479fb3ce4977d046f\". You have to remove (or rename) that container to be able to reuse that name.\r\n",
      "See 'docker run --help'.\r\n"
     ]
    }
   ],
   "source": [
    "! docker run --name=mysql --net=host --rm --env MYSQL_ROOT_PASSWORD=root123 --env MYSQL_DATABASE=test --env MYSQL_USER=test --env MYSQL_PASSWORD=test123 -d mysql/mysql-server:8.0"
   ]
  },
  {
   "cell_type": "code",
   "execution_count": 2,
   "metadata": {},
   "outputs": [
    {
     "name": "stdout",
     "output_type": "stream",
     "text": [
      "Done.\r\n"
     ]
    }
   ],
   "source": [
    "! while ! timeout 1 bash -c \"echo > /dev/tcp/localhost/3306\" 2> /dev/null; do sleep 1; done; echo \"Done.\";"
   ]
  },
  {
   "cell_type": "markdown",
   "metadata": {},
   "source": [
    "Edit the code:"
   ]
  },
  {
   "cell_type": "code",
   "execution_count": null,
   "metadata": {},
   "outputs": [
    {
     "name": "stdout",
     "output_type": "stream",
     "text": [
      "OpenJDK 64-Bit Server VM warning: Option UseConcMarkSweepGC was deprecated in version 9.0 and will likely be removed in a future release.\n",
      "2021-01-24 16:42:56,099 [   3191]   WARN - Container.ComponentManagerImpl - Do not use constructor injection (requestorClass=org.jetbrains.plugins.phpstorm.PhpStormInitialConfigurator) \n",
      "2021-01-24 16:43:08,378 [  15470]   WARN - pl.local.NativeFileWatcherImpl - Watcher terminated with exit code 3 \n",
      "2021-01-24 16:43:08,498 [  15590]   WARN - pl.local.NativeFileWatcherImpl - Watcher terminated with exit code 3 \n",
      "2021-01-24 16:43:08,611 [  15703]   WARN - pl.local.NativeFileWatcherImpl - Watcher terminated with exit code 3 \n",
      "2021-01-24 16:43:08,729 [  15821]   WARN - pl.local.NativeFileWatcherImpl - Watcher terminated with exit code 3 \n",
      "2021-01-24 16:43:08,838 [  15930]   WARN - pl.local.NativeFileWatcherImpl - Watcher terminated with exit code 3 \n",
      "2021-01-24 16:43:08,881 [  15973]   WARN - com.intellij.util.xmlb.Binding - no accessors for com.jetbrains.php.testFramework.PhpTestFrameworkType \n",
      "2021-01-24 16:43:08,959 [  16051]   WARN - pl.local.NativeFileWatcherImpl - Watcher terminated with exit code 3 \n",
      "2021-01-24 16:43:09,064 [  16156]   WARN - pl.local.NativeFileWatcherImpl - Watcher terminated with exit code 3 \n",
      "2021-01-24 16:43:09,199 [  16291]   WARN - pl.local.NativeFileWatcherImpl - Watcher terminated with exit code 3 \n",
      "2021-01-24 16:43:09,379 [  16471]   WARN - pl.local.NativeFileWatcherImpl - Watcher terminated with exit code 3 \n",
      "2021-01-24 16:43:09,547 [  16639]   WARN - pl.local.NativeFileWatcherImpl - Watcher terminated with exit code 3 \n",
      "2021-01-24 16:43:09,548 [  16640]   WARN - api.vfs.impl.local.FileWatcher - File watcher failed to start \n",
      "2021-01-24 17:01:57,151 [1144243]   WARN - com.intellij.util.xmlb.Binding - no accessors for org.jetbrains.idea.perforce.perforce.ConnectionId \n",
      "2021-01-25 00:01:43,356 [26330448]   WARN - tions.ex.ConfigurableCardPanel - auto-dispose 'PHP' id=reference.webide.settings.project.settings.php \n",
      "2021-01-25 00:01:43,357 [26330449]   WARN - tions.ex.ConfigurableCardPanel - auto-dispose 'PHP' id=reference.webide.settings.project.settings.php \n",
      "2021-01-25 00:18:53,689 [27360781]   WARN - .AbstractProgressIndicatorBase - This progress indicator is indeterminate, this may lead to visual inconsistency. Please call setIndeterminate(false) before you start progress.\n",
      "com.intellij.openapi.vcs.impl.CodeSmellDetectorImpl.findCodeSmells(CodeSmellDetectorImpl.java:137) \n",
      "2021-01-25 04:13:18,665 [41425757]   WARN - .AbstractProgressIndicatorBase - This progress indicator is indeterminate, this may lead to visual inconsistency. Please call setIndeterminate(false) before you start progress.\n",
      "com.intellij.openapi.vcs.impl.CodeSmellDetectorImpl.findCodeSmells(CodeSmellDetectorImpl.java:137) \n"
     ]
    }
   ],
   "source": [
    "! phpstorm project"
   ]
  },
  {
   "cell_type": "markdown",
   "metadata": {},
   "source": [
    "You can test your solution using included tests:"
   ]
  },
  {
   "cell_type": "code",
   "execution_count": 3,
   "metadata": {},
   "outputs": [
    {
     "name": "stdout",
     "output_type": "stream",
     "text": [
      "/home/student/php_2020_platforma_do_nauki_jezykow/Language-learning/project\n"
     ]
    }
   ],
   "source": [
    "%cd project"
   ]
  },
  {
   "cell_type": "code",
   "execution_count": 6,
   "metadata": {},
   "outputs": [
    {
     "name": "stdout",
     "output_type": "stream",
     "text": [
      "\u001b[32mLoading composer repositories with package information\u001b[39m\n",
      "\u001b[32mInstalling dependencies (including require-dev) from lock file\u001b[39m\n",
      "Nothing to install or update\n",
      "\u001b[32mGenerating optimized autoload files\u001b[39m\n",
      "> Illuminate\\Foundation\\ComposerScripts::postAutoloadDump\n",
      "> @php artisan package:discover --ansi\n",
      "Discovered Package: \u001b[32mfacade/ignition\u001b[39m\n",
      "Discovered Package: \u001b[32mfideloper/proxy\u001b[39m\n",
      "Discovered Package: \u001b[32mfruitcake/laravel-cors\u001b[39m\n",
      "Discovered Package: \u001b[32mgraham-campbell/markdown\u001b[39m\n",
      "Discovered Package: \u001b[32mlaravel/breeze\u001b[39m\n",
      "Discovered Package: \u001b[32mlaravel/sail\u001b[39m\n",
      "Discovered Package: \u001b[32mlaravel/tinker\u001b[39m\n",
      "Discovered Package: \u001b[32mnesbot/carbon\u001b[39m\n",
      "Discovered Package: \u001b[32mnunomaduro/collision\u001b[39m\n",
      "\u001b[32mPackage manifest generated successfully.\u001b[39m\n",
      "\u001b[32m79 packages you are using are looking for funding.\u001b[39m\n",
      "\u001b[32mUse the `composer fund` command to find out more!\u001b[39m\n"
     ]
    }
   ],
   "source": [
    "! composer install"
   ]
  },
  {
   "cell_type": "code",
   "execution_count": 7,
   "metadata": {},
   "outputs": [],
   "source": [
    "! cp .env.example .env"
   ]
  },
  {
   "cell_type": "code",
   "execution_count": 6,
   "metadata": {},
   "outputs": [
    {
     "name": "stdout",
     "output_type": "stream",
     "text": [
      "\u001b[32mApplication key set successfully.\u001b[39m\r\n"
     ]
    }
   ],
   "source": [
    "! php artisan key:generate"
   ]
  },
  {
   "cell_type": "code",
   "execution_count": 4,
   "metadata": {},
   "outputs": [
    {
     "name": "stdout",
     "output_type": "stream",
     "text": [
      "\u001b[32mDropped all tables successfully.\u001b[39m\n",
      "\u001b[32mMigration table created successfully.\u001b[39m\n",
      "\u001b[33mMigrating:\u001b[39m 2014_10_12_000000_create_users_table\n",
      "\u001b[32mMigrated:\u001b[39m  2014_10_12_000000_create_users_table (107.86ms)\n",
      "\u001b[33mMigrating:\u001b[39m 2014_10_12_100000_create_password_resets_table\n",
      "\u001b[32mMigrated:\u001b[39m  2014_10_12_100000_create_password_resets_table (68.77ms)\n",
      "\u001b[33mMigrating:\u001b[39m 2019_08_19_000000_create_failed_jobs_table\n",
      "\u001b[32mMigrated:\u001b[39m  2019_08_19_000000_create_failed_jobs_table (58.63ms)\n",
      "\u001b[33mMigrating:\u001b[39m 2020_12_15_145710_create_comments_table\n",
      "\u001b[32mMigrated:\u001b[39m  2020_12_15_145710_create_comments_table (36.71ms)\n",
      "\u001b[33mMigrating:\u001b[39m 2021_01_12_113821_create_quizzes_table\n",
      "\u001b[32mMigrated:\u001b[39m  2021_01_12_113821_create_quizzes_table (459.06ms)\n",
      "\u001b[33mMigrating:\u001b[39m 2021_01_12_135444_create_questions_table\n",
      "\u001b[32mMigrated:\u001b[39m  2021_01_12_135444_create_questions_table (129.82ms)\n",
      "\u001b[33mMigrating:\u001b[39m 2021_01_12_143411_add_quiz_id_and_user_id_to_comments_table\n",
      "\u001b[32mMigrated:\u001b[39m  2021_01_12_143411_add_quiz_id_and_user_id_to_comments_table (199.96ms)\n",
      "\u001b[33mMigrating:\u001b[39m 2021_01_12_172347_create_options_table\n",
      "\u001b[32mMigrated:\u001b[39m  2021_01_12_172347_create_options_table (139.67ms)\n",
      "\u001b[33mMigrating:\u001b[39m 2021_01_13_134656_create_languages_table\n",
      "\u001b[32mMigrated:\u001b[39m  2021_01_13_134656_create_languages_table (30.18ms)\n",
      "\u001b[33mMigrating:\u001b[39m 2021_01_13_135157_add_language_id_to_quizzes_table\n",
      "\u001b[32mMigrated:\u001b[39m  2021_01_13_135157_add_language_id_to_quizzes_table (301.14ms)\n",
      "\u001b[33mMigrating:\u001b[39m 2021_01_15_203911_set_language_unique_on_language_table\n",
      "\u001b[32mMigrated:\u001b[39m  2021_01_15_203911_set_language_unique_on_language_table (276.59ms)\n",
      "\u001b[33mMigrating:\u001b[39m 2021_01_22_142810_create_solutions_table\n",
      "\u001b[32mMigrated:\u001b[39m  2021_01_22_142810_create_solutions_table (189.09ms)\n",
      "\u001b[33mMigrating:\u001b[39m 2021_01_22_161644_add_quiz_field_to_solutions_table\n",
      "\u001b[32mMigrated:\u001b[39m  2021_01_22_161644_add_quiz_field_to_solutions_table (125.27ms)\n",
      "\u001b[33mMigrating:\u001b[39m 2021_01_22_223425_create_results_table\n",
      "\u001b[32mMigrated:\u001b[39m  2021_01_22_223425_create_results_table (172.42ms)\n",
      "\u001b[33mMigrating:\u001b[39m 2021_01_23_165104_create_subcomments_table\n",
      "\u001b[32mMigrated:\u001b[39m  2021_01_23_165104_create_subcomments_table (246.10ms)\n"
     ]
    }
   ],
   "source": [
    "! php artisan migrate:fresh"
   ]
  },
  {
   "cell_type": "code",
   "execution_count": 5,
   "metadata": {},
   "outputs": [
    {
     "name": "stdout",
     "output_type": "stream",
     "text": [
      "\u001b[33mSeeding:\u001b[39m Database\\Seeders\\UserSeeder\n",
      "\u001b[32mSeeded:\u001b[39m  Database\\Seeders\\UserSeeder (767.43ms)\n",
      "\u001b[33mSeeding:\u001b[39m Database\\Seeders\\LanguageSeeder\n",
      "\u001b[32mSeeded:\u001b[39m  Database\\Seeders\\LanguageSeeder (28.51ms)\n",
      "\u001b[33mSeeding:\u001b[39m Database\\Seeders\\QuizSeeder\n",
      "\u001b[32mSeeded:\u001b[39m  Database\\Seeders\\QuizSeeder (67.26ms)\n",
      "\u001b[33mSeeding:\u001b[39m Database\\Seeders\\QuestionSeeder\n",
      "\u001b[32mSeeded:\u001b[39m  Database\\Seeders\\QuestionSeeder (270.93ms)\n",
      "\u001b[33mSeeding:\u001b[39m Database\\Seeders\\OptionSeeder\n",
      "\u001b[32mSeeded:\u001b[39m  Database\\Seeders\\OptionSeeder (902.30ms)\n",
      "\u001b[33mSeeding:\u001b[39m Database\\Seeders\\CommentSeeder\n",
      "\u001b[32mSeeded:\u001b[39m  Database\\Seeders\\CommentSeeder (65.32ms)\n",
      "\u001b[33mSeeding:\u001b[39m Database\\Seeders\\ResultSeeder\n",
      "\u001b[32mSeeded:\u001b[39m  Database\\Seeders\\ResultSeeder (11.96ms)\n",
      "\u001b[32mDatabase seeding completed successfully.\u001b[39m\n"
     ]
    }
   ],
   "source": [
    "! php artisan db:seed"
   ]
  },
  {
   "cell_type": "code",
   "execution_count": 6,
   "metadata": {},
   "outputs": [
    {
     "name": "stdout",
     "output_type": "stream",
     "text": [
      "mysqldump: [Warning] Using a password on the command line interface can be insecure.\r\n"
     ]
    }
   ],
   "source": [
    "! docker exec mysql mysqldump -u root --password=root123 test > tests_codeception/_data/dump.sql"
   ]
  },
  {
   "cell_type": "code",
   "execution_count": 7,
   "metadata": {},
   "outputs": [
    {
     "name": "stdout",
     "output_type": "stream",
     "text": [
      "PHPUnit 9.5.0 by Sebastian Bergmann and contributors.\n",
      "\n",
      ".................                                                 17 / 17 (100%)\n",
      "\n",
      "Time: 00:08.989, Memory: 38.00 MB\n",
      "\n",
      "\u001b[30;42mOK (17 tests, 27 assertions)\u001b[0m\n"
     ]
    }
   ],
   "source": [
    "! vendor/bin/phpunit"
   ]
  },
  {
   "cell_type": "code",
   "execution_count": 8,
   "metadata": {},
   "outputs": [],
   "source": [
    "import subprocess\n",
    "artisanServe = subprocess.Popen(['php', 'artisan', 'serve', '--port', '8888'])"
   ]
  },
  {
   "cell_type": "code",
   "execution_count": 9,
   "metadata": {},
   "outputs": [
    {
     "name": "stdout",
     "output_type": "stream",
     "text": [
      "Codeception PHP Testing Framework v4.1.12\n",
      "Powered by PHPUnit 9.5.0 by Sebastian Bergmann and contributors.\n",
      "Running with seed: \n",
      "\n",
      "\n",
      "\u001b[1mAcceptance Tests (4) \u001b[22m-----------------------------------------------------------\n",
      "\u001b[32;1m✔\u001b[39;22m \u001b[35;1m01_HomepageCept:\u001b[39;22m See Laravel links on homepage \u001b[32m(0.61s)\u001b[39m\n",
      "\u001b[32;1m✔\u001b[39;22m \u001b[35;1m02_LoginCept:\u001b[39;22m Login with existing user \u001b[32m(1.00s)\u001b[39m\n",
      "\u001b[32;1m✔\u001b[39;22m \u001b[35;1m03_LanguageCept:\u001b[39;22m Create quizzes with specific languages \u001b[32m(1.13s)\u001b[39m\n",
      "\u001b[31;1m✖\u001b[39;22m \u001b[35;1m04_QuizzescomCept:\u001b[39;22m Create quizzes with specific languages \u001b[32m(0.64s)\u001b[39m\n",
      "--------------------------------------------------------------------------------\n",
      "\n",
      "\u001b[1mFunctional Tests (0) \u001b[22m-----------------------------------------------------------\n",
      "--------------------------------------------------------------------------------\n",
      "\n",
      "\u001b[1mUnit Tests (0) \u001b[22m-----------------------------------------------------------------\n",
      "--------------------------------------------------------------------------------\n",
      "\n",
      "\n",
      "Time: 00:10.137, Memory: 14.00 MB\n",
      "\n",
      "There was 1 failure:\n",
      "\n",
      "---------\n",
      "1) \u001b[35;1m04_QuizzescomCept:\u001b[39;22m Create quizzes with specific languages\n",
      "\u001b[37;41;1m Test \u001b[39;49;22m tests_codeception/acceptance/04_QuizzescomCept.php\n",
      "\u001b[37;41;1m Step \u001b[39;49;22m See \"Add new comment\",\"button\"\n",
      "\u001b[37;41;1m Fail \u001b[39;49;22m Failed asserting that any element by 'button' on page /quizzes/1/comments \n",
      "+ <button class=\"flex items-center text-sm font-medium text-gray-400 hover:text-gray-300 hover:border-gray-300 focus:outline-none focus:text-gray-200 focus:border-gray-300 transition duration-150 ease-in-out\">\n",
      "                                            <div>John Doe</div>\n",
      "\n",
      "                                            <div class=\"ml-1\">\n",
      "                                                <svg class=\"fill-current h-4 w-4\" viewbox=\"0 0 20 20\" xmlns=\"http://www.w3.org/2000/svg\">\n",
      "                                                    <path clip-rule=\"evenodd\" d=\"M5.293 7.293a1 1 0 011.414 0L10 10.586l3.293-3.293a1 1 0 111.414 1.414l-4 4a1 1 0 01-1.414 0l-4-4a1 1 0 010-1.414z\" fill-rule=\"evenodd\"></path>\n",
      "                                                </svg>\n",
      "                                            </div>\n",
      "                                        </button>\n",
      "+ <button class=\"inline-flex items-center px-4 py-2 bg-purple-800 border border-transparent rounded-md font-semibold text-xs text-white uppercase tracking-widest hover:bg-purple-700 active:bg-purple-600 focus:outline-none focus:border-gray-900 focus:ring ring-gray-300 disabled:opacity-25 transition ease-in-out duration-150 ml-4\" type=\"submit\">\n",
      "    Go to discussion\n",
      "</button>\n",
      "+ <button class=\"inline-flex items-center px-4 py-2 bg-purple-800 border border-transparent rounded-md font-semibold text-xs text-white uppercase tracking-widest hover:bg-purple-700 active:bg-purple-600 focus:outline-none focus:border-gray-900 focus:ring ring-gray-300 disabled:opacity-25 transition ease-in-out duration-150 ml-4\" type=\"submit\">\n",
      "    Edit\n",
      "</button>\n",
      "+ <button class=\"inline-flex items-center px-4 py-2 bg-purple-800 border border-transparent rounded-md font-semibold text-xs text-white uppercase tracking-widest hover:bg-purple-700 active:bg-purple-600 focus:outline-none focus:border-gray-900 focus:ring ring-gray-300 disabled:opacity-25 transition ease-in-out duration-150 ml-4\" type=\"submit\">\n",
      "    Delete\n",
      "</button>\n",
      "+ <button class=\"inline-flex items-center px-4 py-2 bg-purple-800 border border-transparent rounded-md font-semibold text-xs text-white uppercase tracking-widest hover:bg-purple-700 active:bg-purple-600 focus:outline-none focus:border-gray-900 focus:ring ring-gray-300 disabled:opacity-25 transition ease-in-out duration-150 ml-4\" type=\"submit\">\n",
      "    Go to discussion\n",
      "</button>\n",
      "+ <button class=\"inline-flex items-center px-4 py-2 bg-purple-800 border border-transparent rounded-md font-semibold text-xs text-white uppercase tracking-widest hover:bg-purple-700 active:bg-purple-600 focus:outline-none focus:border-gray-900 focus:ring ring-gray-300 disabled:opacity-25 transition ease-in-out duration-150 ml-4\" type=\"submit\">\n",
      "    Go to discussion\n",
      "</button>\n",
      "+ <button class=\"inline-flex items-center px-4 py-2 bg-purple-800 border border-transparent rounded-md font-semibold text-xs text-white uppercase tracking-widest hover:bg-purple-700 active:bg-purple-600 focus:outline-none focus:border-gray-900 focus:ring ring-gray-300 disabled:opacity-25 transition ease-in-out duration-150 ml-4\" type=\"submit\">\n",
      "    Go to discussion\n",
      "</button>\n",
      "+ <button class=\"inline-flex items-center px-4 py-2 bg-purple-800 border border-transparent rounded-md font-semibold text-xs text-white uppercase tracking-widest hover:bg-purple-700 active:bg-purple-600 focus:outline-none focus:border-gray-900 focus:ring ring-gray-300 disabled:opacity-25 transition ease-in-out duration-150 ml-4\" type=\"submit\">\n",
      "    Create new...\n",
      "</button>\n",
      "contains text 'Add new comment'\n",
      "\u001b[33m\n",
      "Scenario Steps:\n",
      "\u001b[39m\n",
      "\u001b[1m 11. $I->see(\"Add new comment\",\"button\")\u001b[22m at \u001b[32mtests_codeception/acceptance/04_QuizzescomCept.php:14\u001b[39m\n",
      " 10. $I->see(\"Delete\",\"button\") at \u001b[32mtests_codeception/acceptance/04_QuizzescomCept.php:13\u001b[39m\n",
      " 9. $I->see(\"Edit\",\"button\") at \u001b[32mtests_codeception/acceptance/04_QuizzescomCept.php:12\u001b[39m\n",
      " 8. $I->seeCurrentUrlEquals(\"/quizzes/1/comments\") at \u001b[32mtests_codeception/acceptance/04_QuizzescomCept.php:11\u001b[39m\n",
      " 7. $I->click(\"Discuss\") at \u001b[32mtests_codeception/acceptance/04_QuizzescomCept.php:10\u001b[39m\n",
      " 6. $I->seeCurrentUrlEquals(\"/dashboard\") at \u001b[32mtests_codeception/acceptance/04_QuizzescomCept.php:9\u001b[39m\n",
      "\n",
      "\u001b[33mArtifacts:\u001b[39m\n",
      "\n",
      "Html: \u001b[36m/home/student/php_2020_platforma_do_nauki_jezykow/Language-learning/project/tests_codeception/_output/04_QuizzescomCept.fail.html\u001b[39m\n",
      "Response: \u001b[36m/home/student/php_2020_platforma_do_nauki_jezykow/Language-learning/project/tests_codeception/_output/04_QuizzescomCept.fail.html\u001b[39m\n",
      "\n",
      "\u001b[37;41mFAILURES!\u001b[0m\n",
      "\u001b[37;41mTests: 4\u001b[0m\u001b[37;41m, Assertions: 23\u001b[0m\u001b[37;41m, Failures: 1\u001b[0m\u001b[37;41m.\u001b[0m\n"
     ]
    }
   ],
   "source": [
    "! vendor/bin/codecept run"
   ]
  },
  {
   "cell_type": "code",
   "execution_count": 13,
   "metadata": {},
   "outputs": [],
   "source": [
    "! killall php php7.4"
   ]
  },
  {
   "cell_type": "code",
   "execution_count": 12,
   "metadata": {},
   "outputs": [
    {
     "name": "stdout",
     "output_type": "stream",
     "text": [
      "/home/student/php_2020_platforma_do_nauki_jezykow/Language-learning\n"
     ]
    }
   ],
   "source": [
    "%cd .."
   ]
  },
  {
   "cell_type": "markdown",
   "metadata": {},
   "source": [
    "Stop database:"
   ]
  },
  {
   "cell_type": "code",
   "execution_count": 15,
   "metadata": {},
   "outputs": [
    {
     "name": "stdout",
     "output_type": "stream",
     "text": [
      "mysql\r\n"
     ]
    }
   ],
   "source": [
    "! docker container stop mysql"
   ]
  }
 ],
 "metadata": {
  "kernelspec": {
   "display_name": "Python 3",
   "language": "python",
   "name": "python3"
  },
  "language_info": {
   "codemirror_mode": {
    "name": "ipython",
    "version": 3
   },
   "file_extension": ".py",
   "mimetype": "text/x-python",
   "name": "python",
   "nbconvert_exporter": "python",
   "pygments_lexer": "ipython3",
   "version": "3.8.3"
  }
 },
 "nbformat": 4,
 "nbformat_minor": 4
}
